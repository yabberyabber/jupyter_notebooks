{
 "cells": [
  {
   "cell_type": "code",
   "execution_count": 25,
   "metadata": {
    "collapsed": false
   },
   "outputs": [
    {
     "name": "stdout",
     "output_type": "stream",
     "text": [
      "['D', 'C', 'B', 'A']\n",
      "[[ 7.5 ]\n",
      " [ 5.  ]\n",
      " [ 2.25]\n",
      " [ 7.75]]\n",
      "{'D': 7.5, 'B': 2.25, 'C': 5.0, 'A': 7.75}\n"
     ]
    }
   ],
   "source": [
    "from collections import namedtuple\n",
    "import numpy.matlib as mat\n",
    "import numpy as np\n",
    "from numpy.linalg import inv\n",
    "\n",
    "Match = namedtuple(\"Match\", [\"teams\", \"score\"])\n",
    "\n",
    "def CalcOpr(matches):\n",
    "    \"\"\"\n",
    "    Given a list of matches, to least squares OPR calculation\n",
    "    \"\"\"\n",
    "    num_matches = len(matches) # rows\n",
    "    teams = list(set().union(*[match.teams for match in matches]))\n",
    "    print(teams)\n",
    "    num_teams = len(teams)\n",
    "    \n",
    "    alliances = mat.zeros((num_matches, num_teams))\n",
    "    scores = mat.zeros((num_matches, 1))\n",
    "    \n",
    "    for idx, match in enumerate(matches):\n",
    "        scores[idx, 0] = match.score\n",
    "        for team in match.teams:\n",
    "            alliances[idx, teams.index(team)] = 1\n",
    "        \n",
    "    least_squares_approx = np.dot(\n",
    "        inv(np.dot(np.transpose(alliances), alliances)),\n",
    "        np.dot(np.transpose(alliances), scores))\n",
    "    print(least_squares_approx)\n",
    "    \n",
    "    oprs = {}\n",
    "    for idx, team in enumerate(teams):\n",
    "        oprs[team] = least_squares_approx[idx, 0] \n",
    "    return oprs\n",
    "\n",
    "print(CalcOpr([\n",
    "            Match(teams=['A', 'B'], score=10),\n",
    "            Match(teams=['A', 'C'], score=13),\n",
    "            Match(teams=['B', 'C'], score=7),\n",
    "            Match(teams=['A', 'D'], score=15),\n",
    "            Match(teams=['B', 'D'], score=10),\n",
    "        ]))"
   ]
  }
 ],
 "metadata": {
  "kernelspec": {
   "display_name": "Python [conda root]",
   "language": "python",
   "name": "conda-root-py"
  },
  "language_info": {
   "codemirror_mode": {
    "name": "ipython",
    "version": 3
   },
   "file_extension": ".py",
   "mimetype": "text/x-python",
   "name": "python",
   "nbconvert_exporter": "python",
   "pygments_lexer": "ipython3",
   "version": "3.5.2"
  }
 },
 "nbformat": 4,
 "nbformat_minor": 1
}
