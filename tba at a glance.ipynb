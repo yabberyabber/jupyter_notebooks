{
 "cells": [
  {
   "cell_type": "code",
   "execution_count": 1,
   "metadata": {
    "collapsed": false
   },
   "outputs": [
    {
     "name": "stdout",
     "output_type": "stream",
     "text": [
      "{'android': {'latest_app_version': 4020399, 'min_app_version': 4000299},\n",
      " 'contbuild_enabled': True,\n",
      " 'current_season': 2018,\n",
      " 'down_events': [],\n",
      " 'ios': {'latest_app_version': -1, 'min_app_version': -1},\n",
      " 'is_datafeed_down': False,\n",
      " 'json': {'android': {'latest_app_version': 4020399,\n",
      "                      'min_app_version': 4000299},\n",
      "          'contbuild_enabled': True,\n",
      "          'current_season': 2018,\n",
      "          'down_events': [],\n",
      "          'ios': {'latest_app_version': -1, 'min_app_version': -1},\n",
      "          'is_datafeed_down': False,\n",
      "          'max_season': 2018,\n",
      "          'web': {'commit_time': '2018-02-19 00:43:42 -0500',\n",
      "                  'current_commit': '908eaae107ae0cd08d462eb65246cc5aa5b43136',\n",
      "                  'deploy_time': 'Mon Feb 19 06:02:12 UTC 2018',\n",
      "                  'travis_job': '343226350'}},\n",
      " 'max_season': 2018,\n",
      " 'web': {'commit_time': '2018-02-19 00:43:42 -0500',\n",
      "         'current_commit': '908eaae107ae0cd08d462eb65246cc5aa5b43136',\n",
      "         'deploy_time': 'Mon Feb 19 06:02:12 UTC 2018',\n",
      "         'travis_job': '343226350'}}\n"
     ]
    }
   ],
   "source": [
    "import requests\n",
    "import requests_cache\n",
    "\n",
    "# Cache all api requests in a file called tba_cache.sqlite for a day\n",
    "# (monkeypatch the requests module that tbapy uses)\n",
    "requests_cache.install_cache(cache_name=\"tba_cache\", expire_after=60 * 60 * 24)\n",
    "\n",
    "import tbapy\n",
    "import pprint\n",
    "pp = pprint.PrettyPrinter()\n",
    "\n",
    "api_key = \"6qOZ9uAEsb4CDrOBNG6ZnIdi9cWBaZ6DHnCSato97Qfo7bBeUwT9NfFt4Gi5sHFN\"\n",
    "\n",
    "tba = tbapy.TBA(api_key)\n",
    "pp.pprint(tba.status())"
   ]
  },
  {
   "cell_type": "code",
   "execution_count": 2,
   "metadata": {
    "collapsed": false
   },
   "outputs": [
    {
     "name": "stdout",
     "output_type": "stream",
     "text": [
      "['2017cabl',\n",
      " '2017cacc',\n",
      " '2017cada',\n",
      " '2017cama',\n",
      " '2017cc',\n",
      " '2017cmptx',\n",
      " '2017mttd',\n",
      " '2017nhfoc',\n",
      " '2017onsc',\n",
      " '2017roe']\n"
     ]
    }
   ],
   "source": [
    "\"Memoize my favorite functions\"\n",
    "\n",
    "from functools import lru_cache\n",
    "\n",
    "team_events = lru_cache(maxsize=512)(tba.team_events)\n",
    "event_alliances = lru_cache(maxsize=512)(tba.event_alliances)\n",
    "event_rankings = lru_cache(maxsize=512)(tba.event_rankings)\n",
    "event_oprs = lru_cache(maxsize=512)(tba.event_oprs)\n",
    "team_years = lru_cache(maxsize=512)(tba.team_years)\n",
    "\n",
    "@lru_cache(maxsize=128)\n",
    "def event_teams(team):\n",
    "    return [x['key'] for x in tba.event_teams(team)]\n",
    "\n",
    "def scrape_event_codes(events, year):\n",
    "    return [str(year) + event['event_code'] for event in events]\n",
    "\n",
    "pp.pprint(scrape_event_codes(team_events('frc973', 2017), 2017))"
   ]
  },
  {
   "cell_type": "code",
   "execution_count": 3,
   "metadata": {
    "collapsed": false,
    "scrolled": false
   },
   "outputs": [
    {
     "name": "stdout",
     "output_type": "stream",
     "text": [
      "No finals report for 2015nvlv\n",
      "No finals report for 2018caav\n",
      "No ranking port for 2018caav\n",
      "No finals report for 2018casd\n",
      "No ranking port for 2018casd\n",
      "No finals report for 2018nvlv\n",
      "No ranking port for 2018nvlv\n",
      "[(2014,\n",
      "  [{'event_code': 'casb',\n",
      "    'event_date': '2014-02-28',\n",
      "    'event_type': 0,\n",
      "    'event_type_string': 'Regional',\n",
      "    'team_report': {'level': 'sf', 'seat': 2, 'seed': 20}},\n",
      "   {'event_code': 'gal',\n",
      "    'event_date': '2014-04-24',\n",
      "    'event_type': 3,\n",
      "    'event_type_string': 'Championship Division',\n",
      "    'team_report': {'level': None, 'seat': None, 'seed': 41}},\n",
      "   {'event_code': 'nvlv',\n",
      "    'event_date': '2014-04-03',\n",
      "    'event_type': 0,\n",
      "    'event_type_string': 'Regional',\n",
      "    'team_report': {'level': None, 'seat': None, 'seed': 42}}]),\n",
      " (2015,\n",
      "  [{'event_code': 'carm',\n",
      "    'event_date': '2015-02-26',\n",
      "    'event_type': 0,\n",
      "    'event_type_string': 'Regional',\n",
      "    'team_report': {'level': 'qf', 'seat': 1, 'seed': 23}},\n",
      "   {'event_code': 'new',\n",
      "    'event_date': '2015-04-22',\n",
      "    'event_type': 3,\n",
      "    'event_type_string': 'Championship Division',\n",
      "    'team_report': {'level': 'w', 'seat': 3, 'seed': 57}},\n",
      "   {'event_code': 'nvlv',\n",
      "    'event_date': '2015-03-25',\n",
      "    'event_type': 0,\n",
      "    'event_type_string': 'Regional',\n",
      "    'team_report': {'level': None, 'seat': None, 'seed': 41}}]),\n",
      " (2016,\n",
      "  [{'event_code': 'calb',\n",
      "    'event_date': '2016-03-09',\n",
      "    'event_type': 0,\n",
      "    'event_type_string': 'Regional',\n",
      "    'team_report': {'level': 'w', 'seat': 2, 'seed': 25}},\n",
      "   {'event_code': 'gal',\n",
      "    'event_date': '2016-04-27',\n",
      "    'event_type': 3,\n",
      "    'event_type_string': 'Championship Division',\n",
      "    'team_report': {'level': None, 'seat': None, 'seed': 65}},\n",
      "   {'event_code': 'nvlv',\n",
      "    'event_date': '2016-03-30',\n",
      "    'event_type': 0,\n",
      "    'event_type_string': 'Regional',\n",
      "    'team_report': {'level': 'sf', 'seat': 'AC', 'seed': 4}}]),\n",
      " (2017,\n",
      "  [{'event_code': 'cada',\n",
      "    'event_date': '2017-03-22',\n",
      "    'event_type': 0,\n",
      "    'event_type_string': 'Regional',\n",
      "    'team_report': {'level': 'sf', 'seat': 2, 'seed': 24}},\n",
      "   {'event_code': 'casd',\n",
      "    'event_date': '2017-03-08',\n",
      "    'event_type': 0,\n",
      "    'event_type_string': 'Regional',\n",
      "    'team_report': {'level': None, 'seat': None, 'seed': 60}},\n",
      "   {'event_code': 'new',\n",
      "    'event_date': '2017-04-19',\n",
      "    'event_type': 3,\n",
      "    'event_type_string': 'Championship Division',\n",
      "    'team_report': {'level': 'qf', 'seat': 3, 'seed': 20}},\n",
      "   {'event_code': 'nvlv',\n",
      "    'event_date': '2017-04-05',\n",
      "    'event_type': 0,\n",
      "    'event_type_string': 'Regional',\n",
      "    'team_report': {'level': 'qf', 'seat': 1, 'seed': 32}}]),\n",
      " (2018,\n",
      "  [{'event_code': 'caav',\n",
      "    'event_date': '2018-04-04',\n",
      "    'event_type': 0,\n",
      "    'event_type_string': 'Regional',\n",
      "    'team_report': {'level': None, 'seat': None, 'seed': None}},\n",
      "   {'event_code': 'casd',\n",
      "    'event_date': '2018-03-07',\n",
      "    'event_type': 0,\n",
      "    'event_type_string': 'Regional',\n",
      "    'team_report': {'level': None, 'seat': None, 'seed': None}},\n",
      "   {'event_code': 'nvlv',\n",
      "    'event_date': '2018-03-21',\n",
      "    'event_type': 0,\n",
      "    'event_type_string': 'Regional',\n",
      "    'team_report': {'level': None, 'seat': None, 'seed': None}}])]\n"
     ]
    }
   ],
   "source": [
    "def team_event_report(team, event):\n",
    "    level = None\n",
    "    seat = None\n",
    "    seed = None\n",
    "    \n",
    "    try:\n",
    "        finals_report = event_alliances(event)\n",
    "    \n",
    "        for alliance in finals_report:\n",
    "            if team in alliance['picks'] and alliance['status'] != 'unknown':\n",
    "                #pp.pprint(alliance)\n",
    "                level = 'w' if alliance['status']['status'] == 'won' else alliance['status']['level']\n",
    "                seat = alliance['picks'].index(team)\n",
    "                if seat == 0:\n",
    "                    seat = 'AC'\n",
    "    except TypeError:\n",
    "        print(\"No finals report for {:s}\".format(event))\n",
    "    \n",
    "    try:\n",
    "        quals_seeds = event_rankings(event)\n",
    "    \n",
    "        for alliance in quals_seeds['rankings']:\n",
    "            if alliance['team_key'] == team:\n",
    "                if alliance['dq']:\n",
    "                    seed = 'DQ'\n",
    "                else:\n",
    "                    seed = alliance['rank']\n",
    "    except TypeError:\n",
    "        print(\"No ranking port for {:s}\".format(event))\n",
    "    \n",
    "    return {\n",
    "        'level': level,\n",
    "        'seat': seat,\n",
    "        'seed': seed,\n",
    "    }\n",
    "\n",
    "def team_year_report(team, year):\n",
    "    events = [event\n",
    "              for event\n",
    "              in team_events(team, year)\n",
    "              if event['event_type'] <= 3]\n",
    "    \n",
    "    event_reports = []\n",
    "    for event in events:\n",
    "        event_code = str(year) + event['event_code']\n",
    "        event_reports.append({\n",
    "            'event_code': event['event_code'],\n",
    "            'event_type': event['event_type'],\n",
    "            'event_type_string': event['event_type_string'],\n",
    "            'event_date': event['start_date'],\n",
    "            'team_report': team_event_report(team, event_code),\n",
    "        })\n",
    "        \n",
    "    return event_reports\n",
    "\n",
    "def team_history(team):\n",
    "    years = sorted(team_years(team))\n",
    "    \n",
    "    year_reports = []\n",
    "    for year in years:\n",
    "        year_reports.append((year, team_year_report(team, year)))\n",
    "        \n",
    "    return year_reports\n",
    "\n",
    "griffengear = team_history('frc5012')\n",
    "pp.pprint(griffengear)"
   ]
  },
  {
   "cell_type": "code",
   "execution_count": 4,
   "metadata": {
    "collapsed": true
   },
   "outputs": [],
   "source": [
    "class TableBuilder:\n",
    "    def __init__(self, **kwargs):\n",
    "        self.row_var = kwargs['row']\n",
    "        self.rows = []\n",
    "        self.accept_new_rows = True\n",
    "        self.col_var = kwargs['col']\n",
    "        self.cols = []\n",
    "        self.accept_new_cols = True\n",
    "        self.upper_left = ''\n",
    "        \n",
    "        self.cells = {}\n",
    "        \n",
    "        def default_generator(**kwargs):\n",
    "            return \"\"\n",
    "        self.generator = default_generator\n",
    "    \n",
    "    def set_generator(self, gen):\n",
    "        self.generator = gen\n",
    "        \n",
    "    def set_rows(self, rows):\n",
    "        self.rows = rows\n",
    "        self.accept_new_rows = False\n",
    "    \n",
    "    def set_cols(self, cols):\n",
    "        self.cols = cols\n",
    "        self.accept_new_cols = False\n",
    "        \n",
    "    def set_cell(self, value, **kwargs):\n",
    "        row = kwargs[self.row_var]\n",
    "        col = kwargs[self.col_var]\n",
    "        \n",
    "        if row not in self.rows:\n",
    "            if self.accept_new_rows:\n",
    "                self.rows.append(row)\n",
    "            else:\n",
    "                raise Exception(\"Row does not exist and table configured to not accept new rows\")\n",
    "        \n",
    "        if col not in self.cols:\n",
    "            if self.accept_new_cols:\n",
    "                self.cols.append(col)\n",
    "            else:\n",
    "                raise Exception(\"Col does not exist and table configured to not accept new cols\")\n",
    "        \n",
    "        if row not in self.cells:\n",
    "            self.cells[row] = {}\n",
    "            \n",
    "        self.cells[row][col] = {\n",
    "            'value': value,\n",
    "            'color': kwargs.get('color', None),\n",
    "        }\n",
    "    \n",
    "    def get_cell(self, **kwargs):\n",
    "        row = kwargs[self.row_var]\n",
    "        col = kwargs[self.col_var]\n",
    "        if row not in self.cells:\n",
    "            self.cells[row] = {}\n",
    "        if col not in self.cells[row]:\n",
    "            self.cells[row][col] = self.generator(row=row, col=col)\n",
    "        return self.cells[row][col]\n",
    "    \n",
    "    def _get_cell(self, row, col):\n",
    "        if row not in self.cells:\n",
    "            self.cells[row] = {}\n",
    "        if col not in self.cells[row]:\n",
    "            self.cells[row][col] = {\n",
    "                'value': self.generator(row=row, col=col),\n",
    "                'color': None,\n",
    "            }\n",
    "        return self.cells[row][col]\n",
    "    \n",
    "    def get_html(self):\n",
    "        table_rows = []\n",
    "        \n",
    "        header_cells = [self.upper_left] + self.cols\n",
    "        header = ''.join('<td>{:s}</td>'.format(str(cell)) for cell in header_cells)\n",
    "        table_rows.append(header)\n",
    "        \n",
    "        for row in self.rows:\n",
    "            row_cells = [self._get_cell(row, col) for col in self.cols]\n",
    "            row = ['<td>{:s}</td>'.format(row)]\n",
    "            for cell in row_cells:\n",
    "                if cell['color']:\n",
    "                    row.append('<td style=\"background-color:{:s}\">{:s}</td>'.format(\n",
    "                                    str(cell['color']),\n",
    "                                    str(cell['value'])))\n",
    "                else:\n",
    "                    row.append('<td>{:s}</td>'.format(\n",
    "                                    str(cell['value'])))\n",
    "            row = ''.join(row)\n",
    "            table_rows.append(row)\n",
    "            \n",
    "        contents = ''.join('<tr>{:s}</tr>'.format(row) for row in table_rows)\n",
    "        return \"<table>{:s}</table>\".format(contents)"
   ]
  },
  {
   "cell_type": "code",
   "execution_count": 5,
   "metadata": {
    "collapsed": false
   },
   "outputs": [
    {
     "data": {
      "text/html": [
       "<h1>Report for 5012</h1><h3>Elims results</h3><table><tr><td></td><td>2014</td><td>2015</td><td>2016</td><td>2017</td><td>2018</td></tr><tr><td>Regional 1</td><td style=\"background-color:#66ffff\">sf</td><td style=\"background-color:#66ccff\">qf</td><td style=\"background-color:#66ff33\">w</td><td style=\"background-color:#66ffff\">sf</td><td style=\"background-color:#e6e6e6\">N/A</td></tr><tr><td>Regional 2</td><td style=\"background-color:#e6e6e6\">N/A</td><td style=\"background-color:#e6e6e6\">N/A</td><td style=\"background-color:#66ffff\">sf</td><td style=\"background-color:#e6e6e6\">N/A</td><td style=\"background-color:#e6e6e6\">N/A</td></tr><tr><td>Regional 3</td><td></td><td></td><td></td><td style=\"background-color:#66ccff\">qf</td><td style=\"background-color:#e6e6e6\">N/A</td></tr><tr><td>Champs Div</td><td style=\"background-color:#e6e6e6\">N/A</td><td style=\"background-color:#66ff33\">w</td><td style=\"background-color:#e6e6e6\">N/A</td><td style=\"background-color:#66ccff\">qf</td><td></td></tr></table><br /><h3>Elims alliance seat</h3><table><tr><td></td><td>2014</td><td>2015</td><td>2016</td><td>2017</td><td>2018</td></tr><tr><td>Regional 1</td><td style=\"background-color:#66ffff\">2</td><td style=\"background-color:#66ff99\">1</td><td style=\"background-color:#66ffff\">2</td><td style=\"background-color:#66ffff\">2</td><td style=\"background-color:#e6e6e6\">N/A</td></tr><tr><td>Regional 2</td><td style=\"background-color:#e6e6e6\">N/A</td><td style=\"background-color:#e6e6e6\">N/A</td><td style=\"background-color:#66ff33\">AC</td><td style=\"background-color:#e6e6e6\">N/A</td><td style=\"background-color:#e6e6e6\">N/A</td></tr><tr><td>Regional 3</td><td></td><td></td><td></td><td style=\"background-color:#66ff99\">1</td><td style=\"background-color:#e6e6e6\">N/A</td></tr><tr><td>Champs Div</td><td style=\"background-color:#e6e6e6\">N/A</td><td style=\"background-color:#66ccff\">3</td><td style=\"background-color:#e6e6e6\">N/A</td><td style=\"background-color:#66ccff\">3</td><td></td></tr></table><br /><h3>Quals seed</h3><table><tr><td></td><td>2014</td><td>2015</td><td>2016</td><td>2017</td><td>2018</td></tr><tr><td>Regional 1</td><td style=\"background-color:#50ebaf\">20</td><td style=\"background-color:#53e8b5\">23</td><td style=\"background-color:#55e6b9\">25</td><td style=\"background-color:#54e7b7\">24</td><td style=\"background-color:#e6e6e6\">N/A</td></tr><tr><td>Regional 2</td><td style=\"background-color:#66d5db\">42</td><td style=\"background-color:#65d6d9\">41</td><td style=\"background-color:#40fb8f\">4</td><td style=\"background-color:#78c3ff\">60</td><td style=\"background-color:#e6e6e6\">N/A</td></tr><tr><td>Regional 3</td><td></td><td></td><td></td><td style=\"background-color:#5cdfc7\">32</td><td style=\"background-color:#e6e6e6\">N/A</td></tr><tr><td>Champs Div</td><td style=\"background-color:#65d6d9\">41</td><td style=\"background-color:#75c6f9\">57</td><td style=\"background-color:#78c3ff\">65</td><td style=\"background-color:#50ebaf\">20</td><td></td></tr></table>"
      ],
      "text/plain": [
       "<IPython.core.display.HTML object>"
      ]
     },
     "metadata": {},
     "output_type": "display_data"
    }
   ],
   "source": [
    "from IPython.display import HTML, display\n",
    "\n",
    "def format_subreport(history, team, attribute, color_codes=None):\n",
    "    table = TableBuilder(row='event', col='year')\n",
    "    \n",
    "    years = [report[0] for report in history]\n",
    "    table.set_cols(years)\n",
    "    table.set_rows([\"Regional 1\", \"Regional 2\", \"Regional 3\", \"Champs Div\"])\n",
    "    \n",
    "    for report in history:\n",
    "        year = report[0]\n",
    "        regional_events = [event for event in report[1] if event['event_type'] < 3]\n",
    "        champs_events = [event for event in report[1] if event['event_type'] == 3]\n",
    "        \n",
    "        for i, row in enumerate(['Regional 1', 'Regional 2', 'Regional 3']):\n",
    "            if len(regional_events) > i:\n",
    "                if regional_events[i]['team_report'] is None:\n",
    "                    table.set_cell(\"?\", event=row, year=year)\n",
    "                elif regional_events[i]['team_report'][attribute] is None:\n",
    "                    table.set_cell(\"N/A\", \n",
    "                                   color='#e6e6e6',\n",
    "                                   event=row, year=year)\n",
    "                else:\n",
    "                    table.set_cell(regional_events[i]['team_report'][attribute],\n",
    "                                   color=color_codes[regional_events[i]['team_report'][attribute]],\n",
    "                                   event=row, year=year)\n",
    "        \n",
    "        if champs_events:\n",
    "            if champs_events[0]['team_report'] is None:\n",
    "                table.set_cell(\"?\", event='Champs Div', year=year)\n",
    "            elif champs_events[0]['team_report'][attribute] is None:\n",
    "                table.set_cell(\"N/A\",\n",
    "                               color='#e6e6e6',\n",
    "                               event='Champs Div', year=year)\n",
    "            else:\n",
    "                table.set_cell(champs_events[0]['team_report'][attribute],\n",
    "                               color=color_codes[champs_events[0]['team_report'][attribute]],\n",
    "                               event='Champs Div', year=year)\n",
    "    return table.get_html()\n",
    "\n",
    "def rank_to_color(rank):\n",
    "    rank = min(rank, 60)\n",
    "    r = 60 + 1 * rank\n",
    "    g = 255 - 1 * rank\n",
    "    b = 135 + 2 * rank\n",
    "    return \"#{:02x}{:02x}{:02x}\".format(r, g, b)\n",
    "\n",
    "def format_report(history, teamno):\n",
    "    source = (\n",
    "        \"<h1>Report for {:s}</h1>\".format(str(teamno)) +\n",
    "        \"<h3>Elims results</h3>\" +\n",
    "        format_subreport(history, teamno, 'level', {\n",
    "            'w': '#66ff33',\n",
    "            'f': '#66ff99',\n",
    "            'sf': '#66ffff',\n",
    "            'qf': '#66ccff',\n",
    "            'N/A': '#e6e6e6',\n",
    "        }) +\n",
    "        \"<br />\" +\n",
    "        \"<h3>Elims alliance seat</h3>\" +\n",
    "        format_subreport(history, teamno, 'seat', {\n",
    "            'AC': '#66ff33',\n",
    "            1: '#66ff99',\n",
    "            2: '#66ffff',\n",
    "            3: '#66ccff',\n",
    "        }) +\n",
    "        \"<br />\" +\n",
    "        \"<h3>Quals seed</h3>\" +\n",
    "        format_subreport(history, teamno, 'seed', {\n",
    "                rank: rank_to_color(rank)\n",
    "                for rank\n",
    "                in range(100)\n",
    "        })\n",
    "    )\n",
    "    display(HTML(source))\n",
    "\n",
    "format_report(griffengear, 5012)"
   ]
  },
  {
   "cell_type": "code",
   "execution_count": 6,
   "metadata": {
    "collapsed": false
   },
   "outputs": [
    {
     "name": "stdout",
     "output_type": "stream",
     "text": [
      "No finals report for 2002sj\n",
      "No ranking port for 2002sj\n",
      "No finals report for 2003ca\n",
      "No ranking port for 2003ca\n",
      "No finals report for 2003sj\n",
      "No ranking port for 2003sj\n",
      "No finals report for 2004az\n",
      "No ranking port for 2004az\n",
      "No finals report for 2004sj\n",
      "No ranking port for 2004sj\n",
      "No finals report for 2005sac\n",
      "No ranking port for 2005sac\n",
      "No finals report for 2006arc\n",
      "No ranking port for 2006arc\n",
      "No finals report for 2006sj\n",
      "No ranking port for 2006sj\n",
      "No finals report for 2007sac\n",
      "No finals report for 2007sj\n",
      "No finals report for 2008nv\n",
      "No finals report for 2008sj\n",
      "No finals report for 2009ca\n",
      "No finals report for 2009gal\n",
      "No finals report for 2009nv\n",
      "No finals report for 2018casf\n",
      "No ranking port for 2018casf\n",
      "No finals report for 2018casj\n",
      "No ranking port for 2018casj\n"
     ]
    },
    {
     "data": {
      "text/html": [
       "<h1>Report for 973</h1><h3>Elims results</h3><table><tr><td></td><td>2002</td><td>2003</td><td>2004</td><td>2005</td><td>2006</td><td>2007</td><td>2008</td><td>2009</td><td>2010</td><td>2011</td><td>2012</td><td>2013</td><td>2014</td><td>2015</td><td>2016</td><td>2017</td><td>2018</td></tr><tr><td>Regional 1</td><td style=\"background-color:#e6e6e6\">N/A</td><td style=\"background-color:#e6e6e6\">N/A</td><td style=\"background-color:#e6e6e6\">N/A</td><td style=\"background-color:#e6e6e6\">N/A</td><td style=\"background-color:#e6e6e6\">N/A</td><td style=\"background-color:#e6e6e6\">N/A</td><td style=\"background-color:#e6e6e6\">N/A</td><td style=\"background-color:#e6e6e6\">N/A</td><td style=\"background-color:#66ff99\">f</td><td style=\"background-color:#66ffff\">sf</td><td style=\"background-color:#66ff99\">f</td><td style=\"background-color:#66ff33\">w</td><td style=\"background-color:#66ff99\">f</td><td style=\"background-color:#66ff33\">w</td><td style=\"background-color:#66ffff\">sf</td><td style=\"background-color:#66ff33\">w</td><td style=\"background-color:#e6e6e6\">N/A</td></tr><tr><td>Regional 2</td><td></td><td style=\"background-color:#e6e6e6\">N/A</td><td style=\"background-color:#e6e6e6\">N/A</td><td></td><td></td><td style=\"background-color:#e6e6e6\">N/A</td><td style=\"background-color:#e6e6e6\">N/A</td><td style=\"background-color:#e6e6e6\">N/A</td><td style=\"background-color:#66ccff\">qf</td><td style=\"background-color:#66ccff\">qf</td><td style=\"background-color:#66ffff\">sf</td><td style=\"background-color:#66ffff\">sf</td><td style=\"background-color:#66ff33\">w</td><td style=\"background-color:#66ccff\">qf</td><td style=\"background-color:#66ff33\">w</td><td style=\"background-color:#66ffff\">sf</td><td style=\"background-color:#e6e6e6\">N/A</td></tr><tr><td>Regional 3</td><td></td><td></td><td></td><td></td><td></td><td></td><td></td><td></td><td></td><td></td><td></td><td style=\"background-color:#66ff99\">f</td><td></td><td></td><td></td><td></td><td></td></tr><tr><td>Champs Div</td><td></td><td></td><td></td><td></td><td style=\"background-color:#e6e6e6\">N/A</td><td></td><td></td><td style=\"background-color:#e6e6e6\">N/A</td><td></td><td style=\"background-color:#66ff33\">w</td><td style=\"background-color:#66ccff\">qf</td><td style=\"background-color:#66ccff\">qf</td><td style=\"background-color:#66ff33\">w</td><td style=\"background-color:#66ccff\">qf</td><td style=\"background-color:#66ffff\">sf</td><td style=\"background-color:#66ff33\">w</td><td></td></tr></table><br /><h3>Elims alliance seat</h3><table><tr><td></td><td>2002</td><td>2003</td><td>2004</td><td>2005</td><td>2006</td><td>2007</td><td>2008</td><td>2009</td><td>2010</td><td>2011</td><td>2012</td><td>2013</td><td>2014</td><td>2015</td><td>2016</td><td>2017</td><td>2018</td></tr><tr><td>Regional 1</td><td style=\"background-color:#e6e6e6\">N/A</td><td style=\"background-color:#e6e6e6\">N/A</td><td style=\"background-color:#e6e6e6\">N/A</td><td style=\"background-color:#e6e6e6\">N/A</td><td style=\"background-color:#e6e6e6\">N/A</td><td style=\"background-color:#e6e6e6\">N/A</td><td style=\"background-color:#e6e6e6\">N/A</td><td style=\"background-color:#e6e6e6\">N/A</td><td style=\"background-color:#66ff99\">1</td><td style=\"background-color:#66ff99\">1</td><td style=\"background-color:#66ff99\">1</td><td style=\"background-color:#66ff99\">1</td><td style=\"background-color:#66ff99\">1</td><td style=\"background-color:#66ff99\">1</td><td style=\"background-color:#66ff99\">1</td><td style=\"background-color:#66ff99\">1</td><td style=\"background-color:#e6e6e6\">N/A</td></tr><tr><td>Regional 2</td><td></td><td style=\"background-color:#e6e6e6\">N/A</td><td style=\"background-color:#e6e6e6\">N/A</td><td></td><td></td><td style=\"background-color:#e6e6e6\">N/A</td><td style=\"background-color:#e6e6e6\">N/A</td><td style=\"background-color:#e6e6e6\">N/A</td><td style=\"background-color:#66ff99\">1</td><td style=\"background-color:#66ff33\">AC</td><td style=\"background-color:#66ff99\">1</td><td style=\"background-color:#66ff33\">AC</td><td style=\"background-color:#66ff99\">1</td><td style=\"background-color:#66ff33\">AC</td><td style=\"background-color:#66ff99\">1</td><td style=\"background-color:#66ff33\">AC</td><td style=\"background-color:#e6e6e6\">N/A</td></tr><tr><td>Regional 3</td><td></td><td></td><td></td><td></td><td></td><td></td><td></td><td></td><td></td><td></td><td></td><td style=\"background-color:#66ff99\">1</td><td></td><td></td><td></td><td></td><td></td></tr><tr><td>Champs Div</td><td></td><td></td><td></td><td></td><td style=\"background-color:#e6e6e6\">N/A</td><td></td><td></td><td style=\"background-color:#e6e6e6\">N/A</td><td></td><td style=\"background-color:#66ffff\">2</td><td style=\"background-color:#66ff99\">1</td><td style=\"background-color:#66ffff\">2</td><td style=\"background-color:#66ff99\">1</td><td style=\"background-color:#66ff99\">1</td><td style=\"background-color:#66ff33\">AC</td><td style=\"background-color:#66ff33\">AC</td><td></td></tr></table><br /><h3>Quals seed</h3><table><tr><td></td><td>2002</td><td>2003</td><td>2004</td><td>2005</td><td>2006</td><td>2007</td><td>2008</td><td>2009</td><td>2010</td><td>2011</td><td>2012</td><td>2013</td><td>2014</td><td>2015</td><td>2016</td><td>2017</td><td>2018</td></tr><tr><td>Regional 1</td><td style=\"background-color:#e6e6e6\">N/A</td><td style=\"background-color:#e6e6e6\">N/A</td><td style=\"background-color:#e6e6e6\">N/A</td><td style=\"background-color:#e6e6e6\">N/A</td><td style=\"background-color:#e6e6e6\">N/A</td><td style=\"background-color:#5ddec9\">33</td><td style=\"background-color:#4af1a3\">14</td><td style=\"background-color:#46f59b\">10</td><td style=\"background-color:#44f797\">8</td><td style=\"background-color:#42f993\">6</td><td style=\"background-color:#44f797\">8</td><td style=\"background-color:#43f895\">7</td><td style=\"background-color:#46f59b\">10</td><td style=\"background-color:#3efd8b\">2</td><td style=\"background-color:#41fa91\">5</td><td style=\"background-color:#3ffc8d\">3</td><td style=\"background-color:#e6e6e6\">N/A</td></tr><tr><td>Regional 2</td><td></td><td style=\"background-color:#e6e6e6\">N/A</td><td style=\"background-color:#e6e6e6\">N/A</td><td></td><td></td><td style=\"background-color:#4af1a3\">14</td><td style=\"background-color:#53e8b5\">23</td><td style=\"background-color:#44f797\">8</td><td style=\"background-color:#46f59b\">10</td><td style=\"background-color:#43f895\">7</td><td style=\"background-color:#51eab1\">21</td><td style=\"background-color:#3ffc8d\">3</td><td style=\"background-color:#67d4dd\">43</td><td style=\"background-color:#40fb8f\">4</td><td style=\"background-color:#3efd8b\">2</td><td style=\"background-color:#40fb8f\">4</td><td style=\"background-color:#e6e6e6\">N/A</td></tr><tr><td>Regional 3</td><td></td><td></td><td></td><td></td><td></td><td></td><td></td><td></td><td></td><td></td><td></td><td style=\"background-color:#4af1a3\">14</td><td></td><td></td><td></td><td></td><td></td></tr><tr><td>Champs Div</td><td></td><td></td><td></td><td></td><td style=\"background-color:#e6e6e6\">N/A</td><td></td><td></td><td style=\"background-color:#47f49d\">11</td><td></td><td style=\"background-color:#55e6b9\">25</td><td style=\"background-color:#46f59b\">10</td><td style=\"background-color:#56e5bb\">26</td><td style=\"background-color:#5be0c5\">31</td><td style=\"background-color:#43f895\">7</td><td style=\"background-color:#3dfe89\">1</td><td style=\"background-color:#3dfe89\">1</td><td></td></tr></table>"
      ],
      "text/plain": [
       "<IPython.core.display.HTML object>"
      ]
     },
     "metadata": {},
     "output_type": "display_data"
    }
   ],
   "source": [
    "format_report(team_history('frc973'), 973)"
   ]
  },
  {
   "cell_type": "code",
   "execution_count": 7,
   "metadata": {
    "collapsed": false,
    "scrolled": false
   },
   "outputs": [
    {
     "name": "stdout",
     "output_type": "stream",
     "text": [
      "No finals report for 1999ca\n",
      "No ranking port for 1999ca\n",
      "No finals report for 2000ca\n",
      "No ranking port for 2000ca\n",
      "No finals report for 2000tx\n",
      "No ranking port for 2000tx\n",
      "No finals report for 2001arc\n",
      "No ranking port for 2001arc\n",
      "No finals report for 2001ca1\n",
      "No ranking port for 2001ca1\n",
      "No finals report for 2001ca2\n",
      "No ranking port for 2001ca2\n",
      "No finals report for 2002oh\n",
      "No ranking port for 2002oh\n",
      "No finals report for 2002sj\n",
      "No ranking port for 2002sj\n",
      "No finals report for 2003new\n",
      "No ranking port for 2003new\n",
      "No finals report for 2003sac\n",
      "No ranking port for 2003sac\n",
      "No finals report for 2003sj\n",
      "No ranking port for 2003sj\n",
      "No finals report for 2004new\n",
      "No ranking port for 2004new\n",
      "No finals report for 2004sac\n",
      "No ranking port for 2004sac\n",
      "No finals report for 2004sj\n",
      "No ranking port for 2004sj\n",
      "No finals report for 2005gal\n",
      "No ranking port for 2005gal\n",
      "No finals report for 2005sac\n",
      "No ranking port for 2005sac\n",
      "No finals report for 2005sj\n",
      "No ranking port for 2005sj\n",
      "No finals report for 2006new\n",
      "No ranking port for 2006new\n",
      "No finals report for 2006or\n",
      "No ranking port for 2006or\n",
      "No finals report for 2006sj\n",
      "No ranking port for 2006sj\n",
      "No finals report for 2006wa\n",
      "No ranking port for 2006wa\n",
      "No finals report for 2007arc\n",
      "No finals report for 2007ca\n",
      "No finals report for 2007nv\n",
      "No finals report for 2007sj\n",
      "No finals report for 2008gal\n",
      "No finals report for 2008hi\n",
      "No finals report for 2008sj\n",
      "No finals report for 2009cur\n",
      "No finals report for 2009nv\n",
      "No finals report for 2009sj\n",
      "No finals report for 2018azfl\n",
      "No ranking port for 2018azfl\n",
      "No finals report for 2018casj\n",
      "No ranking port for 2018casj\n"
     ]
    },
    {
     "data": {
      "text/html": [
       "<h1>Report for 254</h1><h3>Elims results</h3><table><tr><td></td><td>1999</td><td>2000</td><td>2001</td><td>2002</td><td>2003</td><td>2004</td><td>2005</td><td>2006</td><td>2007</td><td>2008</td><td>2009</td><td>2010</td><td>2011</td><td>2012</td><td>2013</td><td>2014</td><td>2015</td><td>2016</td><td>2017</td><td>2018</td></tr><tr><td>Regional 1</td><td style=\"background-color:#e6e6e6\">N/A</td><td style=\"background-color:#e6e6e6\">N/A</td><td style=\"background-color:#e6e6e6\">N/A</td><td style=\"background-color:#e6e6e6\">N/A</td><td style=\"background-color:#e6e6e6\">N/A</td><td style=\"background-color:#e6e6e6\">N/A</td><td style=\"background-color:#e6e6e6\">N/A</td><td style=\"background-color:#e6e6e6\">N/A</td><td style=\"background-color:#e6e6e6\">N/A</td><td style=\"background-color:#e6e6e6\">N/A</td><td style=\"background-color:#e6e6e6\">N/A</td><td style=\"background-color:#66ff33\">w</td><td style=\"background-color:#66ff33\">w</td><td style=\"background-color:#66ff99\">f</td><td style=\"background-color:#66ff33\">w</td><td style=\"background-color:#66ff33\">w</td><td style=\"background-color:#66ff33\">w</td><td style=\"background-color:#66ff33\">w</td><td style=\"background-color:#66ff33\">w</td><td style=\"background-color:#e6e6e6\">N/A</td></tr><tr><td>Regional 2</td><td></td><td style=\"background-color:#e6e6e6\">N/A</td><td style=\"background-color:#e6e6e6\">N/A</td><td style=\"background-color:#e6e6e6\">N/A</td><td style=\"background-color:#e6e6e6\">N/A</td><td style=\"background-color:#e6e6e6\">N/A</td><td style=\"background-color:#e6e6e6\">N/A</td><td style=\"background-color:#e6e6e6\">N/A</td><td style=\"background-color:#e6e6e6\">N/A</td><td style=\"background-color:#e6e6e6\">N/A</td><td style=\"background-color:#e6e6e6\">N/A</td><td style=\"background-color:#66ff33\">w</td><td style=\"background-color:#66ff33\">w</td><td style=\"background-color:#e6e6e6\">N/A</td><td style=\"background-color:#66ff33\">w</td><td style=\"background-color:#66ff33\">w</td><td style=\"background-color:#66ff33\">w</td><td style=\"background-color:#66ff33\">w</td><td style=\"background-color:#66ff33\">w</td><td style=\"background-color:#e6e6e6\">N/A</td></tr><tr><td>Regional 3</td><td></td><td></td><td></td><td></td><td></td><td></td><td></td><td style=\"background-color:#e6e6e6\">N/A</td><td style=\"background-color:#e6e6e6\">N/A</td><td></td><td></td><td></td><td></td><td style=\"background-color:#66ff33\">w</td><td></td><td style=\"background-color:#66ff33\">w</td><td></td><td></td><td></td><td></td></tr><tr><td>Champs Div</td><td></td><td></td><td style=\"background-color:#e6e6e6\">N/A</td><td></td><td style=\"background-color:#e6e6e6\">N/A</td><td style=\"background-color:#e6e6e6\">N/A</td><td style=\"background-color:#e6e6e6\">N/A</td><td style=\"background-color:#e6e6e6\">N/A</td><td style=\"background-color:#e6e6e6\">N/A</td><td style=\"background-color:#e6e6e6\">N/A</td><td style=\"background-color:#e6e6e6\">N/A</td><td style=\"background-color:#66ff33\">w</td><td style=\"background-color:#66ff33\">w</td><td style=\"background-color:#66ff99\">f</td><td style=\"background-color:#66ffff\">sf</td><td style=\"background-color:#66ff33\">w</td><td style=\"background-color:#66ccff\">qf</td><td style=\"background-color:#66ff99\">f</td><td style=\"background-color:#66ff33\">w</td><td></td></tr></table><br /><h3>Elims alliance seat</h3><table><tr><td></td><td>1999</td><td>2000</td><td>2001</td><td>2002</td><td>2003</td><td>2004</td><td>2005</td><td>2006</td><td>2007</td><td>2008</td><td>2009</td><td>2010</td><td>2011</td><td>2012</td><td>2013</td><td>2014</td><td>2015</td><td>2016</td><td>2017</td><td>2018</td></tr><tr><td>Regional 1</td><td style=\"background-color:#e6e6e6\">N/A</td><td style=\"background-color:#e6e6e6\">N/A</td><td style=\"background-color:#e6e6e6\">N/A</td><td style=\"background-color:#e6e6e6\">N/A</td><td style=\"background-color:#e6e6e6\">N/A</td><td style=\"background-color:#e6e6e6\">N/A</td><td style=\"background-color:#e6e6e6\">N/A</td><td style=\"background-color:#e6e6e6\">N/A</td><td style=\"background-color:#e6e6e6\">N/A</td><td style=\"background-color:#e6e6e6\">N/A</td><td style=\"background-color:#e6e6e6\">N/A</td><td style=\"background-color:#66ff99\">1</td><td style=\"background-color:#66ff33\">AC</td><td style=\"background-color:#66ff99\">1</td><td style=\"background-color:#66ff99\">1</td><td style=\"background-color:#66ff33\">AC</td><td style=\"background-color:#66ff99\">1</td><td style=\"background-color:#66ff99\">1</td><td style=\"background-color:#66ff33\">AC</td><td style=\"background-color:#e6e6e6\">N/A</td></tr><tr><td>Regional 2</td><td></td><td style=\"background-color:#e6e6e6\">N/A</td><td style=\"background-color:#e6e6e6\">N/A</td><td style=\"background-color:#e6e6e6\">N/A</td><td style=\"background-color:#e6e6e6\">N/A</td><td style=\"background-color:#e6e6e6\">N/A</td><td style=\"background-color:#e6e6e6\">N/A</td><td style=\"background-color:#e6e6e6\">N/A</td><td style=\"background-color:#e6e6e6\">N/A</td><td style=\"background-color:#e6e6e6\">N/A</td><td style=\"background-color:#e6e6e6\">N/A</td><td style=\"background-color:#66ff99\">1</td><td style=\"background-color:#66ff33\">AC</td><td style=\"background-color:#e6e6e6\">N/A</td><td style=\"background-color:#66ff33\">AC</td><td style=\"background-color:#66ff99\">1</td><td style=\"background-color:#66ff33\">AC</td><td style=\"background-color:#66ff99\">1</td><td style=\"background-color:#66ff33\">AC</td><td style=\"background-color:#e6e6e6\">N/A</td></tr><tr><td>Regional 3</td><td></td><td></td><td></td><td></td><td></td><td></td><td></td><td style=\"background-color:#e6e6e6\">N/A</td><td style=\"background-color:#e6e6e6\">N/A</td><td></td><td></td><td></td><td></td><td style=\"background-color:#66ff99\">1</td><td></td><td style=\"background-color:#66ff33\">AC</td><td></td><td></td><td></td><td></td></tr><tr><td>Champs Div</td><td></td><td></td><td style=\"background-color:#e6e6e6\">N/A</td><td></td><td style=\"background-color:#e6e6e6\">N/A</td><td style=\"background-color:#e6e6e6\">N/A</td><td style=\"background-color:#e6e6e6\">N/A</td><td style=\"background-color:#e6e6e6\">N/A</td><td style=\"background-color:#e6e6e6\">N/A</td><td style=\"background-color:#e6e6e6\">N/A</td><td style=\"background-color:#e6e6e6\">N/A</td><td style=\"background-color:#66ff33\">AC</td><td style=\"background-color:#66ff33\">AC</td><td style=\"background-color:#66ff99\">1</td><td style=\"background-color:#66ff99\">1</td><td style=\"background-color:#66ff33\">AC</td><td style=\"background-color:#66ff33\">AC</td><td style=\"background-color:#66ff99\">1</td><td style=\"background-color:#66ff99\">1</td><td></td></tr></table><br /><h3>Quals seed</h3><table><tr><td></td><td>1999</td><td>2000</td><td>2001</td><td>2002</td><td>2003</td><td>2004</td><td>2005</td><td>2006</td><td>2007</td><td>2008</td><td>2009</td><td>2010</td><td>2011</td><td>2012</td><td>2013</td><td>2014</td><td>2015</td><td>2016</td><td>2017</td><td>2018</td></tr><tr><td>Regional 1</td><td style=\"background-color:#e6e6e6\">N/A</td><td style=\"background-color:#e6e6e6\">N/A</td><td style=\"background-color:#e6e6e6\">N/A</td><td style=\"background-color:#e6e6e6\">N/A</td><td style=\"background-color:#e6e6e6\">N/A</td><td style=\"background-color:#e6e6e6\">N/A</td><td style=\"background-color:#e6e6e6\">N/A</td><td style=\"background-color:#e6e6e6\">N/A</td><td style=\"background-color:#3efd8b\">2</td><td style=\"background-color:#3ffc8d\">3</td><td style=\"background-color:#3dfe89\">1</td><td style=\"background-color:#3efd8b\">2</td><td style=\"background-color:#3dfe89\">1</td><td style=\"background-color:#57e4bd\">27</td><td style=\"background-color:#4eedab\">18</td><td style=\"background-color:#3dfe89\">1</td><td style=\"background-color:#3efd8b\">2</td><td style=\"background-color:#3efd8b\">2</td><td style=\"background-color:#3dfe89\">1</td><td style=\"background-color:#e6e6e6\">N/A</td></tr><tr><td>Regional 2</td><td></td><td style=\"background-color:#e6e6e6\">N/A</td><td style=\"background-color:#e6e6e6\">N/A</td><td style=\"background-color:#e6e6e6\">N/A</td><td style=\"background-color:#e6e6e6\">N/A</td><td style=\"background-color:#e6e6e6\">N/A</td><td style=\"background-color:#e6e6e6\">N/A</td><td style=\"background-color:#e6e6e6\">N/A</td><td style=\"background-color:#3efd8b\">2</td><td style=\"background-color:#54e7b7\">24</td><td style=\"background-color:#45f699\">9</td><td style=\"background-color:#3efd8b\">2</td><td style=\"background-color:#3dfe89\">1</td><td style=\"background-color:#e6e6e6\">N/A</td><td style=\"background-color:#3dfe89\">1</td><td style=\"background-color:#3ffc8d\">3</td><td style=\"background-color:#3dfe89\">1</td><td style=\"background-color:#3efd8b\">2</td><td style=\"background-color:#3dfe89\">1</td><td style=\"background-color:#e6e6e6\">N/A</td></tr><tr><td>Regional 3</td><td></td><td></td><td></td><td></td><td></td><td></td><td></td><td style=\"background-color:#e6e6e6\">N/A</td><td style=\"background-color:#51eab1\">21</td><td></td><td></td><td></td><td></td><td style=\"background-color:#3ffc8d\">3</td><td></td><td style=\"background-color:#3efd8b\">2</td><td></td><td></td><td></td><td></td></tr><tr><td>Champs Div</td><td></td><td></td><td style=\"background-color:#e6e6e6\">N/A</td><td></td><td style=\"background-color:#e6e6e6\">N/A</td><td style=\"background-color:#e6e6e6\">N/A</td><td style=\"background-color:#e6e6e6\">N/A</td><td style=\"background-color:#e6e6e6\">N/A</td><td style=\"background-color:#48f39f\">12</td><td style=\"background-color:#4af1a3\">14</td><td style=\"background-color:#5eddcb\">34</td><td style=\"background-color:#3dfe89\">1</td><td style=\"background-color:#3efd8b\">2</td><td style=\"background-color:#71caf1\">53</td><td style=\"background-color:#53e8b5\">23</td><td style=\"background-color:#3dfe89\">1</td><td style=\"background-color:#3dfe89\">1</td><td style=\"background-color:#3efd8b\">2</td><td style=\"background-color:#3efd8b\">2</td><td></td></tr></table>"
      ],
      "text/plain": [
       "<IPython.core.display.HTML object>"
      ]
     },
     "metadata": {},
     "output_type": "display_data"
    },
    {
     "name": "stdout",
     "output_type": "stream",
     "text": [
      "No finals report for 2005sac\n",
      "No ranking port for 2005sac\n",
      "No finals report for 2006sac\n",
      "No ranking port for 2006sac\n",
      "No finals report for 2007sac\n",
      "No finals report for 2008sac\n",
      "No finals report for 2009sac\n",
      "No finals report for 2011sac\n",
      "No finals report for 2018cada\n",
      "No ranking port for 2018cada\n",
      "No finals report for 2018cafr\n",
      "No ranking port for 2018cafr\n",
      "No finals report for 2018utwv\n",
      "No ranking port for 2018utwv\n"
     ]
    },
    {
     "data": {
      "text/html": [
       "<h1>Report for 1678</h1><h3>Elims results</h3><table><tr><td></td><td>2005</td><td>2006</td><td>2007</td><td>2008</td><td>2009</td><td>2010</td><td>2011</td><td>2012</td><td>2013</td><td>2014</td><td>2015</td><td>2016</td><td>2017</td><td>2018</td></tr><tr><td>Regional 1</td><td style=\"background-color:#e6e6e6\">N/A</td><td style=\"background-color:#e6e6e6\">N/A</td><td style=\"background-color:#e6e6e6\">N/A</td><td style=\"background-color:#e6e6e6\">N/A</td><td style=\"background-color:#e6e6e6\">N/A</td><td style=\"background-color:#66ccff\">qf</td><td style=\"background-color:#e6e6e6\">N/A</td><td style=\"background-color:#66ccff\">qf</td><td style=\"background-color:#66ff33\">w</td><td style=\"background-color:#66ff33\">w</td><td style=\"background-color:#66ff33\">w</td><td style=\"background-color:#66ff33\">w</td><td style=\"background-color:#66ff33\">w</td><td style=\"background-color:#e6e6e6\">N/A</td></tr><tr><td>Regional 2</td><td></td><td></td><td></td><td></td><td></td><td></td><td></td><td style=\"background-color:#66ff33\">w</td><td style=\"background-color:#66ccff\">qf</td><td style=\"background-color:#66ff33\">w</td><td style=\"background-color:#66ff33\">w</td><td style=\"background-color:#66ff33\">w</td><td style=\"background-color:#66ff33\">w</td><td style=\"background-color:#e6e6e6\">N/A</td></tr><tr><td>Regional 3</td><td></td><td></td><td></td><td></td><td></td><td></td><td></td><td></td><td></td><td style=\"background-color:#66ff99\">f</td><td style=\"background-color:#66ff33\">w</td><td style=\"background-color:#66ff33\">w</td><td style=\"background-color:#66ff33\">w</td><td style=\"background-color:#e6e6e6\">N/A</td></tr><tr><td>Champs Div</td><td></td><td></td><td></td><td></td><td></td><td></td><td style=\"background-color:#66ccff\">qf</td><td style=\"background-color:#66ccff\">qf</td><td style=\"background-color:#66ff33\">w</td><td style=\"background-color:#66ff33\">w</td><td style=\"background-color:#66ff33\">w</td><td style=\"background-color:#66ff33\">w</td><td style=\"background-color:#66ff33\">w</td><td></td></tr></table><br /><h3>Elims alliance seat</h3><table><tr><td></td><td>2005</td><td>2006</td><td>2007</td><td>2008</td><td>2009</td><td>2010</td><td>2011</td><td>2012</td><td>2013</td><td>2014</td><td>2015</td><td>2016</td><td>2017</td><td>2018</td></tr><tr><td>Regional 1</td><td style=\"background-color:#e6e6e6\">N/A</td><td style=\"background-color:#e6e6e6\">N/A</td><td style=\"background-color:#e6e6e6\">N/A</td><td style=\"background-color:#e6e6e6\">N/A</td><td style=\"background-color:#e6e6e6\">N/A</td><td style=\"background-color:#66ff33\">AC</td><td style=\"background-color:#e6e6e6\">N/A</td><td style=\"background-color:#66ff99\">1</td><td style=\"background-color:#66ff33\">AC</td><td style=\"background-color:#66ff99\">1</td><td style=\"background-color:#66ff33\">AC</td><td style=\"background-color:#66ff99\">1</td><td style=\"background-color:#66ff33\">AC</td><td style=\"background-color:#e6e6e6\">N/A</td></tr><tr><td>Regional 2</td><td></td><td></td><td></td><td></td><td></td><td></td><td></td><td style=\"background-color:#66ff33\">AC</td><td style=\"background-color:#66ff99\">1</td><td style=\"background-color:#66ff33\">AC</td><td style=\"background-color:#66ff99\">1</td><td style=\"background-color:#66ff33\">AC</td><td style=\"background-color:#66ff33\">AC</td><td style=\"background-color:#e6e6e6\">N/A</td></tr><tr><td>Regional 3</td><td></td><td></td><td></td><td></td><td></td><td></td><td></td><td></td><td></td><td style=\"background-color:#66ff33\">AC</td><td style=\"background-color:#66ff99\">1</td><td style=\"background-color:#66ff33\">AC</td><td style=\"background-color:#66ff33\">AC</td><td style=\"background-color:#e6e6e6\">N/A</td></tr><tr><td>Champs Div</td><td></td><td></td><td></td><td></td><td></td><td></td><td style=\"background-color:#66ff99\">1</td><td style=\"background-color:#66ff99\">1</td><td style=\"background-color:#66ff33\">AC</td><td style=\"background-color:#66ff33\">AC</td><td style=\"background-color:#66ff99\">1</td><td style=\"background-color:#66ff99\">1</td><td style=\"background-color:#66ff99\">1</td><td></td></tr></table><br /><h3>Quals seed</h3><table><tr><td></td><td>2005</td><td>2006</td><td>2007</td><td>2008</td><td>2009</td><td>2010</td><td>2011</td><td>2012</td><td>2013</td><td>2014</td><td>2015</td><td>2016</td><td>2017</td><td>2018</td></tr><tr><td>Regional 1</td><td style=\"background-color:#e6e6e6\">N/A</td><td style=\"background-color:#e6e6e6\">N/A</td><td style=\"background-color:#46f59b\">10</td><td style=\"background-color:#44f797\">8</td><td style=\"background-color:#5ae1c3\">30</td><td style=\"background-color:#47f49d\">11</td><td style=\"background-color:#3efd8b\">2</td><td style=\"background-color:#48f39f\">12</td><td style=\"background-color:#43f895\">7</td><td style=\"background-color:#3efd8b\">2</td><td style=\"background-color:#3dfe89\">1</td><td style=\"background-color:#40fb8f\">4</td><td style=\"background-color:#3dfe89\">1</td><td style=\"background-color:#e6e6e6\">N/A</td></tr><tr><td>Regional 2</td><td></td><td></td><td></td><td></td><td></td><td></td><td></td><td style=\"background-color:#3dfe89\">1</td><td style=\"background-color:#44f797\">8</td><td style=\"background-color:#3dfe89\">1</td><td style=\"background-color:#3ffc8d\">3</td><td style=\"background-color:#3dfe89\">1</td><td style=\"background-color:#3efd8b\">2</td><td style=\"background-color:#e6e6e6\">N/A</td></tr><tr><td>Regional 3</td><td></td><td></td><td></td><td></td><td></td><td></td><td></td><td></td><td></td><td style=\"background-color:#3efd8b\">2</td><td style=\"background-color:#3efd8b\">2</td><td style=\"background-color:#3dfe89\">1</td><td style=\"background-color:#3efd8b\">2</td><td style=\"background-color:#e6e6e6\">N/A</td></tr><tr><td>Champs Div</td><td></td><td></td><td></td><td></td><td></td><td></td><td style=\"background-color:#50ebaf\">20</td><td style=\"background-color:#4af1a3\">14</td><td style=\"background-color:#3dfe89\">1</td><td style=\"background-color:#3dfe89\">1</td><td style=\"background-color:#3efd8b\">2</td><td style=\"background-color:#3ffc8d\">3</td><td style=\"background-color:#3ffc8d\">3</td><td></td></tr></table>"
      ],
      "text/plain": [
       "<IPython.core.display.HTML object>"
      ]
     },
     "metadata": {},
     "output_type": "display_data"
    },
    {
     "name": "stdout",
     "output_type": "stream",
     "text": [
      "No finals report for 2002sj\n",
      "No ranking port for 2002sj\n",
      "No finals report for 2003cur\n",
      "No ranking port for 2003cur\n",
      "No finals report for 2003sac\n",
      "No ranking port for 2003sac\n",
      "No finals report for 2003sj\n",
      "No ranking port for 2003sj\n",
      "No finals report for 2004gal\n",
      "No ranking port for 2004gal\n",
      "No finals report for 2004sj\n",
      "No ranking port for 2004sj\n",
      "No finals report for 2005sj\n",
      "No ranking port for 2005sj\n",
      "No finals report for 2006gal\n",
      "No ranking port for 2006gal\n",
      "No finals report for 2006sj\n",
      "No ranking port for 2006sj\n",
      "No finals report for 2007sj\n",
      "No finals report for 2008sj\n",
      "No finals report for 2009gal\n",
      "No finals report for 2009sj\n",
      "No finals report for 2010new\n",
      "No finals report for 2018casf\n",
      "No ranking port for 2018casf\n",
      "No finals report for 2018casj\n",
      "No ranking port for 2018casj\n"
     ]
    },
    {
     "data": {
      "text/html": [
       "<h1>Report for 971</h1><h3>Elims results</h3><table><tr><td></td><td>2002</td><td>2003</td><td>2004</td><td>2005</td><td>2006</td><td>2007</td><td>2008</td><td>2009</td><td>2010</td><td>2011</td><td>2012</td><td>2013</td><td>2014</td><td>2015</td><td>2016</td><td>2017</td><td>2018</td></tr><tr><td>Regional 1</td><td style=\"background-color:#e6e6e6\">N/A</td><td style=\"background-color:#e6e6e6\">N/A</td><td style=\"background-color:#e6e6e6\">N/A</td><td style=\"background-color:#e6e6e6\">N/A</td><td style=\"background-color:#e6e6e6\">N/A</td><td style=\"background-color:#e6e6e6\">N/A</td><td style=\"background-color:#e6e6e6\">N/A</td><td style=\"background-color:#e6e6e6\">N/A</td><td style=\"background-color:#66ff33\">w</td><td style=\"background-color:#66ffff\">sf</td><td style=\"background-color:#66ff33\">w</td><td style=\"background-color:#66ffff\">sf</td><td style=\"background-color:#66ff33\">w</td><td style=\"background-color:#66ffff\">sf</td><td style=\"background-color:#66ff33\">w</td><td style=\"background-color:#66ff33\">w</td><td style=\"background-color:#e6e6e6\">N/A</td></tr><tr><td>Regional 2</td><td></td><td style=\"background-color:#e6e6e6\">N/A</td><td></td><td></td><td></td><td></td><td></td><td></td><td></td><td></td><td style=\"background-color:#66ff33\">w</td><td style=\"background-color:#66ccff\">qf</td><td style=\"background-color:#66ff33\">w</td><td style=\"background-color:#66ff99\">f</td><td style=\"background-color:#66ff99\">f</td><td style=\"background-color:#66ccff\">qf</td><td style=\"background-color:#e6e6e6\">N/A</td></tr><tr><td>Regional 3</td><td></td><td></td><td></td><td></td><td></td><td></td><td></td><td></td><td></td><td></td><td></td><td></td><td></td><td></td><td></td><td></td><td></td></tr><tr><td>Champs Div</td><td></td><td style=\"background-color:#e6e6e6\">N/A</td><td style=\"background-color:#e6e6e6\">N/A</td><td></td><td style=\"background-color:#e6e6e6\">N/A</td><td></td><td></td><td style=\"background-color:#e6e6e6\">N/A</td><td style=\"background-color:#e6e6e6\">N/A</td><td></td><td style=\"background-color:#66ccff\">qf</td><td></td><td style=\"background-color:#66ff99\">f</td><td style=\"background-color:#66ffff\">sf</td><td style=\"background-color:#66ff99\">f</td><td style=\"background-color:#66ff99\">f</td><td></td></tr></table><br /><h3>Elims alliance seat</h3><table><tr><td></td><td>2002</td><td>2003</td><td>2004</td><td>2005</td><td>2006</td><td>2007</td><td>2008</td><td>2009</td><td>2010</td><td>2011</td><td>2012</td><td>2013</td><td>2014</td><td>2015</td><td>2016</td><td>2017</td><td>2018</td></tr><tr><td>Regional 1</td><td style=\"background-color:#e6e6e6\">N/A</td><td style=\"background-color:#e6e6e6\">N/A</td><td style=\"background-color:#e6e6e6\">N/A</td><td style=\"background-color:#e6e6e6\">N/A</td><td style=\"background-color:#e6e6e6\">N/A</td><td style=\"background-color:#e6e6e6\">N/A</td><td style=\"background-color:#e6e6e6\">N/A</td><td style=\"background-color:#e6e6e6\">N/A</td><td style=\"background-color:#66ff33\">AC</td><td style=\"background-color:#66ff33\">AC</td><td style=\"background-color:#66ff99\">1</td><td style=\"background-color:#66ff33\">AC</td><td style=\"background-color:#66ff33\">AC</td><td style=\"background-color:#66ff99\">1</td><td style=\"background-color:#66ff33\">AC</td><td style=\"background-color:#66ff99\">1</td><td style=\"background-color:#e6e6e6\">N/A</td></tr><tr><td>Regional 2</td><td></td><td style=\"background-color:#e6e6e6\">N/A</td><td></td><td></td><td></td><td></td><td></td><td></td><td></td><td></td><td style=\"background-color:#66ff33\">AC</td><td style=\"background-color:#66ff33\">AC</td><td style=\"background-color:#66ff33\">AC</td><td style=\"background-color:#66ff99\">1</td><td style=\"background-color:#66ff33\">AC</td><td style=\"background-color:#66ff33\">AC</td><td style=\"background-color:#e6e6e6\">N/A</td></tr><tr><td>Regional 3</td><td></td><td></td><td></td><td></td><td></td><td></td><td></td><td></td><td></td><td></td><td></td><td></td><td></td><td></td><td></td><td></td><td></td></tr><tr><td>Champs Div</td><td></td><td style=\"background-color:#e6e6e6\">N/A</td><td style=\"background-color:#e6e6e6\">N/A</td><td></td><td style=\"background-color:#e6e6e6\">N/A</td><td></td><td></td><td style=\"background-color:#e6e6e6\">N/A</td><td style=\"background-color:#e6e6e6\">N/A</td><td></td><td style=\"background-color:#66ff99\">1</td><td></td><td style=\"background-color:#66ff33\">AC</td><td style=\"background-color:#66ff33\">AC</td><td style=\"background-color:#66ff33\">AC</td><td style=\"background-color:#66ff99\">1</td><td></td></tr></table><br /><h3>Quals seed</h3><table><tr><td></td><td>2002</td><td>2003</td><td>2004</td><td>2005</td><td>2006</td><td>2007</td><td>2008</td><td>2009</td><td>2010</td><td>2011</td><td>2012</td><td>2013</td><td>2014</td><td>2015</td><td>2016</td><td>2017</td><td>2018</td></tr><tr><td>Regional 1</td><td style=\"background-color:#e6e6e6\">N/A</td><td style=\"background-color:#e6e6e6\">N/A</td><td style=\"background-color:#e6e6e6\">N/A</td><td style=\"background-color:#e6e6e6\">N/A</td><td style=\"background-color:#e6e6e6\">N/A</td><td style=\"background-color:#68d3df\">44</td><td style=\"background-color:#48f39f\">12</td><td style=\"background-color:#3dfe89\">1</td><td style=\"background-color:#3dfe89\">1</td><td style=\"background-color:#43f895\">7</td><td style=\"background-color:#3ffc8d\">3</td><td style=\"background-color:#3efd8b\">2</td><td style=\"background-color:#3dfe89\">1</td><td style=\"background-color:#47f49d\">11</td><td style=\"background-color:#3dfe89\">1</td><td style=\"background-color:#3efd8b\">2</td><td style=\"background-color:#e6e6e6\">N/A</td></tr><tr><td>Regional 2</td><td></td><td style=\"background-color:#e6e6e6\">N/A</td><td></td><td></td><td></td><td></td><td></td><td></td><td></td><td></td><td style=\"background-color:#3dfe89\">1</td><td style=\"background-color:#3ffc8d\">3</td><td style=\"background-color:#3dfe89\">1</td><td style=\"background-color:#40fb8f\">4</td><td style=\"background-color:#3ffc8d\">3</td><td style=\"background-color:#3efd8b\">2</td><td style=\"background-color:#e6e6e6\">N/A</td></tr><tr><td>Regional 3</td><td></td><td></td><td></td><td></td><td></td><td></td><td></td><td></td><td></td><td></td><td></td><td></td><td></td><td></td><td></td><td></td><td></td></tr><tr><td>Champs Div</td><td></td><td style=\"background-color:#e6e6e6\">N/A</td><td style=\"background-color:#e6e6e6\">N/A</td><td></td><td style=\"background-color:#e6e6e6\">N/A</td><td></td><td></td><td style=\"background-color:#78c3ff\">66</td><td style=\"background-color:#4fecad\">19</td><td></td><td style=\"background-color:#78c3ff\">75</td><td></td><td style=\"background-color:#45f699\">9</td><td style=\"background-color:#3dfe89\">1</td><td style=\"background-color:#40fb8f\">4</td><td style=\"background-color:#3efd8b\">2</td><td></td></tr></table>"
      ],
      "text/plain": [
       "<IPython.core.display.HTML object>"
      ]
     },
     "metadata": {},
     "output_type": "display_data"
    },
    {
     "name": "stdout",
     "output_type": "stream",
     "text": [
      "No finals report for 2001ca2\n",
      "No ranking port for 2001ca2\n",
      "No finals report for 2002ca\n",
      "No ranking port for 2002ca\n",
      "No finals report for 2002wa\n",
      "No ranking port for 2002wa\n",
      "No finals report for 2003sj\n",
      "No ranking port for 2003sj\n",
      "No finals report for 2003wa\n",
      "No ranking port for 2003wa\n",
      "No finals report for 2004gal\n",
      "No ranking port for 2004gal\n",
      "No finals report for 2004or\n",
      "No ranking port for 2004or\n",
      "No finals report for 2005gal\n",
      "No ranking port for 2005gal\n",
      "No finals report for 2005or\n",
      "No ranking port for 2005or\n",
      "No finals report for 2006new\n",
      "No ranking port for 2006new\n",
      "No finals report for 2006or\n",
      "No ranking port for 2006or\n",
      "No finals report for 2006wa\n",
      "No ranking port for 2006wa\n",
      "No finals report for 2007or\n",
      "No finals report for 2008or\n",
      "No finals report for 2008wa\n",
      "No finals report for 2009arc\n",
      "No finals report for 2009wa\n",
      "No finals report for 2013wase\n",
      "No finals report for 2018waamv\n",
      "No ranking port for 2018waamv\n",
      "No finals report for 2018wasno\n",
      "No ranking port for 2018wasno\n"
     ]
    },
    {
     "data": {
      "text/html": [
       "<h1>Report for 492</h1><h3>Elims results</h3><table><tr><td></td><td>2001</td><td>2002</td><td>2003</td><td>2004</td><td>2005</td><td>2006</td><td>2007</td><td>2008</td><td>2009</td><td>2010</td><td>2011</td><td>2012</td><td>2013</td><td>2014</td><td>2015</td><td>2016</td><td>2017</td><td>2018</td></tr><tr><td>Regional 1</td><td style=\"background-color:#e6e6e6\">N/A</td><td style=\"background-color:#e6e6e6\">N/A</td><td style=\"background-color:#e6e6e6\">N/A</td><td style=\"background-color:#e6e6e6\">N/A</td><td style=\"background-color:#e6e6e6\">N/A</td><td style=\"background-color:#e6e6e6\">N/A</td><td style=\"background-color:#e6e6e6\">N/A</td><td style=\"background-color:#e6e6e6\">N/A</td><td style=\"background-color:#e6e6e6\">N/A</td><td style=\"background-color:#66ffff\">sf</td><td style=\"background-color:#e6e6e6\">N/A</td><td style=\"background-color:#66ff33\">w</td><td style=\"background-color:#e6e6e6\">N/A</td><td style=\"background-color:#66ccff\">qf</td><td style=\"background-color:#66ccff\">qf</td><td style=\"background-color:#66ccff\">qf</td><td style=\"background-color:#66ffff\">sf</td><td style=\"background-color:#e6e6e6\">N/A</td></tr><tr><td>Regional 2</td><td></td><td style=\"background-color:#e6e6e6\">N/A</td><td style=\"background-color:#e6e6e6\">N/A</td><td></td><td></td><td style=\"background-color:#e6e6e6\">N/A</td><td></td><td style=\"background-color:#e6e6e6\">N/A</td><td></td><td></td><td></td><td></td><td></td><td style=\"background-color:#66ccff\">qf</td><td style=\"background-color:#66ffff\">sf</td><td style=\"background-color:#e6e6e6\">N/A</td><td style=\"background-color:#66ffff\">sf</td><td style=\"background-color:#e6e6e6\">N/A</td></tr><tr><td>Regional 3</td><td></td><td></td><td></td><td></td><td></td><td></td><td></td><td></td><td></td><td></td><td></td><td></td><td></td><td style=\"background-color:#66ff99\">f</td><td style=\"background-color:#66ff33\">w</td><td></td><td style=\"background-color:#66ff33\">w</td><td></td></tr><tr><td>Champs Div</td><td></td><td></td><td></td><td style=\"background-color:#e6e6e6\">N/A</td><td style=\"background-color:#e6e6e6\">N/A</td><td style=\"background-color:#e6e6e6\">N/A</td><td></td><td></td><td style=\"background-color:#e6e6e6\">N/A</td><td></td><td></td><td style=\"background-color:#66ccff\">qf</td><td style=\"background-color:#e6e6e6\">N/A</td><td></td><td style=\"background-color:#66ff33\">w</td><td></td><td style=\"background-color:#66ff99\">f</td><td></td></tr></table><br /><h3>Elims alliance seat</h3><table><tr><td></td><td>2001</td><td>2002</td><td>2003</td><td>2004</td><td>2005</td><td>2006</td><td>2007</td><td>2008</td><td>2009</td><td>2010</td><td>2011</td><td>2012</td><td>2013</td><td>2014</td><td>2015</td><td>2016</td><td>2017</td><td>2018</td></tr><tr><td>Regional 1</td><td style=\"background-color:#e6e6e6\">N/A</td><td style=\"background-color:#e6e6e6\">N/A</td><td style=\"background-color:#e6e6e6\">N/A</td><td style=\"background-color:#e6e6e6\">N/A</td><td style=\"background-color:#e6e6e6\">N/A</td><td style=\"background-color:#e6e6e6\">N/A</td><td style=\"background-color:#e6e6e6\">N/A</td><td style=\"background-color:#e6e6e6\">N/A</td><td style=\"background-color:#e6e6e6\">N/A</td><td style=\"background-color:#66ffff\">2</td><td style=\"background-color:#e6e6e6\">N/A</td><td style=\"background-color:#66ffff\">2</td><td style=\"background-color:#e6e6e6\">N/A</td><td style=\"background-color:#66ff33\">AC</td><td style=\"background-color:#66ff99\">1</td><td style=\"background-color:#66ff99\">1</td><td style=\"background-color:#66ff99\">1</td><td style=\"background-color:#e6e6e6\">N/A</td></tr><tr><td>Regional 2</td><td></td><td style=\"background-color:#e6e6e6\">N/A</td><td style=\"background-color:#e6e6e6\">N/A</td><td></td><td></td><td style=\"background-color:#e6e6e6\">N/A</td><td></td><td style=\"background-color:#e6e6e6\">N/A</td><td></td><td></td><td></td><td></td><td></td><td style=\"background-color:#66ff33\">AC</td><td style=\"background-color:#66ff33\">AC</td><td style=\"background-color:#e6e6e6\">N/A</td><td style=\"background-color:#66ff99\">1</td><td style=\"background-color:#e6e6e6\">N/A</td></tr><tr><td>Regional 3</td><td></td><td></td><td></td><td></td><td></td><td></td><td></td><td></td><td></td><td></td><td></td><td></td><td></td><td style=\"background-color:#66ff99\">1</td><td style=\"background-color:#66ff99\">1</td><td></td><td style=\"background-color:#66ff33\">AC</td><td></td></tr><tr><td>Champs Div</td><td></td><td></td><td></td><td style=\"background-color:#e6e6e6\">N/A</td><td style=\"background-color:#e6e6e6\">N/A</td><td style=\"background-color:#e6e6e6\">N/A</td><td></td><td></td><td style=\"background-color:#e6e6e6\">N/A</td><td></td><td></td><td style=\"background-color:#66ff33\">AC</td><td style=\"background-color:#e6e6e6\">N/A</td><td></td><td style=\"background-color:#66ffff\">2</td><td></td><td style=\"background-color:#66ff33\">AC</td><td></td></tr></table><br /><h3>Quals seed</h3><table><tr><td></td><td>2001</td><td>2002</td><td>2003</td><td>2004</td><td>2005</td><td>2006</td><td>2007</td><td>2008</td><td>2009</td><td>2010</td><td>2011</td><td>2012</td><td>2013</td><td>2014</td><td>2015</td><td>2016</td><td>2017</td><td>2018</td></tr><tr><td>Regional 1</td><td style=\"background-color:#e6e6e6\">N/A</td><td style=\"background-color:#e6e6e6\">N/A</td><td style=\"background-color:#e6e6e6\">N/A</td><td style=\"background-color:#e6e6e6\">N/A</td><td style=\"background-color:#e6e6e6\">N/A</td><td style=\"background-color:#e6e6e6\">N/A</td><td style=\"background-color:#6fcced\">51</td><td style=\"background-color:#43f895\">7</td><td style=\"background-color:#77c4fd\">59</td><td style=\"background-color:#66d5db\">42</td><td style=\"background-color:#61dad1\">37</td><td style=\"background-color:#65d6d9\">41</td><td style=\"background-color:#56e5bb\">26</td><td style=\"background-color:#45f699\">9</td><td style=\"background-color:#4bf0a5\">15</td><td style=\"background-color:#59e2c1\">29</td><td style=\"background-color:#50ebaf\">20</td><td style=\"background-color:#e6e6e6\">N/A</td></tr><tr><td>Regional 2</td><td></td><td style=\"background-color:#e6e6e6\">N/A</td><td style=\"background-color:#e6e6e6\">N/A</td><td></td><td></td><td style=\"background-color:#e6e6e6\">N/A</td><td></td><td style=\"background-color:#47f49d\">11</td><td></td><td></td><td></td><td></td><td></td><td style=\"background-color:#44f797\">8</td><td style=\"background-color:#3ffc8d\">3</td><td style=\"background-color:#56e5bb\">26</td><td style=\"background-color:#42f993\">6</td><td style=\"background-color:#e6e6e6\">N/A</td></tr><tr><td>Regional 3</td><td></td><td></td><td></td><td></td><td></td><td></td><td></td><td></td><td></td><td></td><td></td><td></td><td></td><td style=\"background-color:#40fb8f\">4</td><td style=\"background-color:#43f895\">7</td><td></td><td style=\"background-color:#42f993\">6</td><td></td></tr><tr><td>Champs Div</td><td></td><td></td><td></td><td style=\"background-color:#e6e6e6\">N/A</td><td style=\"background-color:#e6e6e6\">N/A</td><td style=\"background-color:#e6e6e6\">N/A</td><td></td><td></td><td style=\"background-color:#53e8b5\">23</td><td></td><td></td><td style=\"background-color:#3efd8b\">2</td><td style=\"background-color:#78c3ff\">71</td><td></td><td style=\"background-color:#57e4bd\">27</td><td></td><td style=\"background-color:#3dfe89\">1</td><td></td></tr></table>"
      ],
      "text/plain": [
       "<IPython.core.display.HTML object>"
      ]
     },
     "metadata": {},
     "output_type": "display_data"
    }
   ],
   "source": [
    "format_report(team_history('frc254'), 254)\n",
    "format_report(team_history('frc1678'), 1678)\n",
    "format_report(team_history('frc971'), 971)\n",
    "format_report(team_history('frc492'), 492)"
   ]
  },
  {
   "cell_type": "code",
   "execution_count": 8,
   "metadata": {
    "collapsed": false
   },
   "outputs": [
    {
     "name": "stdout",
     "output_type": "stream",
     "text": [
      "No finals report for 2000ca\n",
      "No ranking port for 2000ca\n",
      "No finals report for 2001ca1\n",
      "No ranking port for 2001ca1\n",
      "No finals report for 2002ca\n",
      "No ranking port for 2002ca\n",
      "No finals report for 2002new\n",
      "No ranking port for 2002new\n",
      "No finals report for 2003ca\n",
      "No ranking port for 2003ca\n",
      "No finals report for 2003gal\n",
      "No ranking port for 2003gal\n",
      "No finals report for 2004arc\n",
      "No ranking port for 2004arc\n",
      "No finals report for 2004ca\n",
      "No ranking port for 2004ca\n",
      "No finals report for 2005gal\n",
      "No ranking port for 2005gal\n",
      "No finals report for 2005nv\n",
      "No ranking port for 2005nv\n",
      "No finals report for 2006gal\n",
      "No ranking port for 2006gal\n",
      "No finals report for 2006md\n",
      "No ranking port for 2006md\n",
      "No finals report for 2006nv\n",
      "No ranking port for 2006nv\n",
      "No finals report for 2007ca\n",
      "No finals report for 2007new\n",
      "No finals report for 2007pa\n",
      "No finals report for 2008ca\n",
      "No finals report for 2008gal\n",
      "No finals report for 2008sdc\n",
      "No finals report for 2009ca\n",
      "No finals report for 2009co\n",
      "No finals report for 2009cur\n",
      "No finals report for 2010az\n",
      "No finals report for 2010co\n",
      "No finals report for 2010new\n",
      "No finals report for 2011ut\n",
      "No finals report for 2013casb\n",
      "No finals report for 2018caav\n",
      "No ranking port for 2018caav\n",
      "No finals report for 2018nvlv\n",
      "No ranking port for 2018nvlv\n",
      "No finals report for 2018utwv\n",
      "No ranking port for 2018utwv\n"
     ]
    },
    {
     "data": {
      "text/html": [
       "<h1>Report for 399</h1><h3>Elims results</h3><table><tr><td></td><td>2000</td><td>2001</td><td>2002</td><td>2003</td><td>2004</td><td>2005</td><td>2006</td><td>2007</td><td>2008</td><td>2009</td><td>2010</td><td>2011</td><td>2012</td><td>2013</td><td>2014</td><td>2015</td><td>2016</td><td>2017</td><td>2018</td></tr><tr><td>Regional 1</td><td style=\"background-color:#e6e6e6\">N/A</td><td style=\"background-color:#e6e6e6\">N/A</td><td style=\"background-color:#e6e6e6\">N/A</td><td style=\"background-color:#e6e6e6\">N/A</td><td style=\"background-color:#e6e6e6\">N/A</td><td style=\"background-color:#e6e6e6\">N/A</td><td style=\"background-color:#e6e6e6\">N/A</td><td style=\"background-color:#e6e6e6\">N/A</td><td style=\"background-color:#e6e6e6\">N/A</td><td style=\"background-color:#e6e6e6\">N/A</td><td style=\"background-color:#e6e6e6\">N/A</td><td style=\"background-color:#66ffff\">sf</td><td style=\"background-color:#66ff33\">w</td><td style=\"background-color:#66ff99\">f</td><td style=\"background-color:#66ff33\">w</td><td style=\"background-color:#66ccff\">qf</td><td style=\"background-color:#66ffff\">sf</td><td style=\"background-color:#66ffff\">sf</td><td style=\"background-color:#e6e6e6\">N/A</td></tr><tr><td>Regional 2</td><td></td><td></td><td></td><td></td><td></td><td></td><td style=\"background-color:#e6e6e6\">N/A</td><td style=\"background-color:#e6e6e6\">N/A</td><td style=\"background-color:#e6e6e6\">N/A</td><td style=\"background-color:#e6e6e6\">N/A</td><td style=\"background-color:#e6e6e6\">N/A</td><td style=\"background-color:#66ff99\">f</td><td style=\"background-color:#66ff99\">f</td><td style=\"background-color:#e6e6e6\">N/A</td><td style=\"background-color:#66ffff\">sf</td><td style=\"background-color:#66ff33\">w</td><td style=\"background-color:#66ccff\">qf</td><td style=\"background-color:#66ff99\">f</td><td style=\"background-color:#e6e6e6\">N/A</td></tr><tr><td>Regional 3</td><td></td><td></td><td></td><td></td><td></td><td></td><td></td><td></td><td></td><td></td><td></td><td style=\"background-color:#e6e6e6\">N/A</td><td style=\"background-color:#66ccff\">qf</td><td style=\"background-color:#66ffff\">sf</td><td style=\"background-color:#66ffff\">sf</td><td style=\"background-color:#66ffff\">sf</td><td style=\"background-color:#66ccff\">qf</td><td style=\"background-color:#66ff99\">f</td><td style=\"background-color:#e6e6e6\">N/A</td></tr><tr><td>Champs Div</td><td></td><td></td><td style=\"background-color:#e6e6e6\">N/A</td><td style=\"background-color:#e6e6e6\">N/A</td><td style=\"background-color:#e6e6e6\">N/A</td><td style=\"background-color:#e6e6e6\">N/A</td><td style=\"background-color:#e6e6e6\">N/A</td><td style=\"background-color:#e6e6e6\">N/A</td><td style=\"background-color:#e6e6e6\">N/A</td><td style=\"background-color:#e6e6e6\">N/A</td><td style=\"background-color:#e6e6e6\">N/A</td><td style=\"background-color:#66ffff\">sf</td><td style=\"background-color:#e6e6e6\">N/A</td><td style=\"background-color:#e6e6e6\">N/A</td><td style=\"background-color:#66ccff\">qf</td><td style=\"background-color:#66ccff\">qf</td><td></td><td style=\"background-color:#66ccff\">qf</td><td></td></tr></table><br /><h3>Elims alliance seat</h3><table><tr><td></td><td>2000</td><td>2001</td><td>2002</td><td>2003</td><td>2004</td><td>2005</td><td>2006</td><td>2007</td><td>2008</td><td>2009</td><td>2010</td><td>2011</td><td>2012</td><td>2013</td><td>2014</td><td>2015</td><td>2016</td><td>2017</td><td>2018</td></tr><tr><td>Regional 1</td><td style=\"background-color:#e6e6e6\">N/A</td><td style=\"background-color:#e6e6e6\">N/A</td><td style=\"background-color:#e6e6e6\">N/A</td><td style=\"background-color:#e6e6e6\">N/A</td><td style=\"background-color:#e6e6e6\">N/A</td><td style=\"background-color:#e6e6e6\">N/A</td><td style=\"background-color:#e6e6e6\">N/A</td><td style=\"background-color:#e6e6e6\">N/A</td><td style=\"background-color:#e6e6e6\">N/A</td><td style=\"background-color:#e6e6e6\">N/A</td><td style=\"background-color:#e6e6e6\">N/A</td><td style=\"background-color:#66ff99\">1</td><td style=\"background-color:#66ff99\">1</td><td style=\"background-color:#66ff33\">AC</td><td style=\"background-color:#66ff99\">1</td><td style=\"background-color:#66ff99\">1</td><td style=\"background-color:#66ff33\">AC</td><td style=\"background-color:#66ff33\">AC</td><td style=\"background-color:#e6e6e6\">N/A</td></tr><tr><td>Regional 2</td><td></td><td></td><td></td><td></td><td></td><td></td><td style=\"background-color:#e6e6e6\">N/A</td><td style=\"background-color:#e6e6e6\">N/A</td><td style=\"background-color:#e6e6e6\">N/A</td><td style=\"background-color:#e6e6e6\">N/A</td><td style=\"background-color:#e6e6e6\">N/A</td><td style=\"background-color:#66ff99\">1</td><td style=\"background-color:#66ff99\">1</td><td style=\"background-color:#e6e6e6\">N/A</td><td style=\"background-color:#66ff99\">1</td><td style=\"background-color:#66ff33\">AC</td><td style=\"background-color:#66ff99\">1</td><td style=\"background-color:#66ff99\">1</td><td style=\"background-color:#e6e6e6\">N/A</td></tr><tr><td>Regional 3</td><td></td><td></td><td></td><td></td><td></td><td></td><td></td><td></td><td></td><td></td><td></td><td style=\"background-color:#e6e6e6\">N/A</td><td style=\"background-color:#66ff33\">AC</td><td style=\"background-color:#66ff33\">AC</td><td style=\"background-color:#66ff99\">1</td><td style=\"background-color:#66ff33\">AC</td><td style=\"background-color:#66ff99\">1</td><td style=\"background-color:#66ff33\">AC</td><td style=\"background-color:#e6e6e6\">N/A</td></tr><tr><td>Champs Div</td><td></td><td></td><td style=\"background-color:#e6e6e6\">N/A</td><td style=\"background-color:#e6e6e6\">N/A</td><td style=\"background-color:#e6e6e6\">N/A</td><td style=\"background-color:#e6e6e6\">N/A</td><td style=\"background-color:#e6e6e6\">N/A</td><td style=\"background-color:#e6e6e6\">N/A</td><td style=\"background-color:#e6e6e6\">N/A</td><td style=\"background-color:#e6e6e6\">N/A</td><td style=\"background-color:#e6e6e6\">N/A</td><td style=\"background-color:#66ff33\">AC</td><td style=\"background-color:#e6e6e6\">N/A</td><td style=\"background-color:#e6e6e6\">N/A</td><td style=\"background-color:#66ff33\">AC</td><td style=\"background-color:#66ffff\">2</td><td></td><td style=\"background-color:#66ff99\">1</td><td></td></tr></table><br /><h3>Quals seed</h3><table><tr><td></td><td>2000</td><td>2001</td><td>2002</td><td>2003</td><td>2004</td><td>2005</td><td>2006</td><td>2007</td><td>2008</td><td>2009</td><td>2010</td><td>2011</td><td>2012</td><td>2013</td><td>2014</td><td>2015</td><td>2016</td><td>2017</td><td>2018</td></tr><tr><td>Regional 1</td><td style=\"background-color:#e6e6e6\">N/A</td><td style=\"background-color:#e6e6e6\">N/A</td><td style=\"background-color:#e6e6e6\">N/A</td><td style=\"background-color:#e6e6e6\">N/A</td><td style=\"background-color:#e6e6e6\">N/A</td><td style=\"background-color:#e6e6e6\">N/A</td><td style=\"background-color:#e6e6e6\">N/A</td><td style=\"background-color:#3ffc8d\">3</td><td style=\"background-color:#50ebaf\">20</td><td style=\"background-color:#3ffc8d\">3</td><td style=\"background-color:#4eedab\">18</td><td style=\"background-color:#47f49d\">11</td><td style=\"background-color:#3efd8b\">2</td><td style=\"background-color:#47f49d\">11</td><td style=\"background-color:#3efd8b\">2</td><td style=\"background-color:#47f49d\">11</td><td style=\"background-color:#44f797\">8</td><td style=\"background-color:#41fa91\">5</td><td style=\"background-color:#e6e6e6\">N/A</td></tr><tr><td>Regional 2</td><td></td><td></td><td></td><td></td><td></td><td></td><td style=\"background-color:#e6e6e6\">N/A</td><td style=\"background-color:#4af1a3\">14</td><td style=\"background-color:#54e7b7\">24</td><td style=\"background-color:#3dfe89\">1</td><td style=\"background-color:#41fa91\">5</td><td style=\"background-color:#48f39f\">12</td><td style=\"background-color:#46f59b\">10</td><td style=\"background-color:#45f699\">9</td><td style=\"background-color:#40fb8f\">4</td><td style=\"background-color:#3ffc8d\">3</td><td style=\"background-color:#48f39f\">12</td><td style=\"background-color:#41fa91\">5</td><td style=\"background-color:#e6e6e6\">N/A</td></tr><tr><td>Regional 3</td><td></td><td></td><td></td><td></td><td></td><td></td><td></td><td></td><td></td><td></td><td></td><td style=\"background-color:#3efd8b\">2</td><td style=\"background-color:#3dfe89\">1</td><td style=\"background-color:#3efd8b\">2</td><td style=\"background-color:#3efd8b\">2</td><td style=\"background-color:#42f993\">6</td><td style=\"background-color:#4af1a3\">14</td><td style=\"background-color:#40fb8f\">4</td><td style=\"background-color:#e6e6e6\">N/A</td></tr><tr><td>Champs Div</td><td></td><td></td><td style=\"background-color:#e6e6e6\">N/A</td><td style=\"background-color:#e6e6e6\">N/A</td><td style=\"background-color:#e6e6e6\">N/A</td><td style=\"background-color:#e6e6e6\">N/A</td><td style=\"background-color:#e6e6e6\">N/A</td><td style=\"background-color:#78c3ff\">71</td><td style=\"background-color:#78c3ff\">78</td><td style=\"background-color:#40fb8f\">4</td><td style=\"background-color:#50ebaf\">20</td><td style=\"background-color:#3ffc8d\">3</td><td style=\"background-color:#78c3ff\">80</td><td style=\"background-color:#50ebaf\">20</td><td style=\"background-color:#3dfe89\">1</td><td style=\"background-color:#65d6d9\">41</td><td></td><td style=\"background-color:#49f2a1\">13</td><td></td></tr></table>"
      ],
      "text/plain": [
       "<IPython.core.display.HTML object>"
      ]
     },
     "metadata": {},
     "output_type": "display_data"
    }
   ],
   "source": [
    "format_report(team_history('frc399'), 399)"
   ]
  },
  {
   "cell_type": "code",
   "execution_count": 9,
   "metadata": {
    "collapsed": false,
    "scrolled": false
   },
   "outputs": [],
   "source": [
    "def opr_percentile_at_event(team, event):\n",
    "    try:\n",
    "        percentiles = event_oprs(event)['oprs']\n",
    "        percentiles = [(opr, team) for team, opr in percentiles.items()]\n",
    "        percentiles = sorted(percentiles)\n",
    "        percentiles = [team for opr, team in percentiles]\n",
    "        position = percentiles.index(team)\n",
    "        return float(position + 1) / len(percentiles)\n",
    "    except TypeError:\n",
    "        return None\n",
    "    except ValueError:\n",
    "        return None\n",
    "\n",
    "def opr_percentile_at_all_events(team, year):\n",
    "    events = [\n",
    "        str(year) + event['event_code']\n",
    "        for event\n",
    "        in team_events(team, year)\n",
    "        if event['event_type'] <= 3\n",
    "    ]\n",
    "    \n",
    "    return [\n",
    "        (event, opr_percentile_at_event(team, event))\n",
    "        for event\n",
    "        in events\n",
    "    ]\n",
    "\n",
    "def avg(lst):\n",
    "    return sum(lst) / len(lst)\n",
    "\n",
    "def stddev(lst):\n",
    "    mean = avg(lst)\n",
    "    diffs = [(mean - x) ** 2 for x in lst]\n",
    "    return avg(diffs) ** 0.5\n",
    "\n",
    "def team_opr_strength(team):\n",
    "    percentiles = []\n",
    "    for year in [2017, 2016, 2015]:\n",
    "        for event, percentile in opr_percentile_at_all_events(team, year):\n",
    "            if percentile:\n",
    "                percentiles.append(percentile)\n",
    "    if percentiles:\n",
    "        return {\n",
    "            'average': avg(percentiles),\n",
    "            'stddev': stddev(percentiles),\n",
    "        }\n",
    "    else:\n",
    "        return {\n",
    "            'average': None,\n",
    "            'stddev': None,\n",
    "        }"
   ]
  },
  {
   "cell_type": "code",
   "execution_count": 10,
   "metadata": {
    "collapsed": false,
    "scrolled": false
   },
   "outputs": [
    {
     "data": {
      "text/html": [
       "<h1>Event: 2018caav</h1>Color determined by OPR Percentile.  Saturation determined by OPR Percentile Standard Deviation<table><tr><td></td><td>OPR P</td><td>OPR P SD</td></tr><tr><td>frc330</td><td style=\"background-color:hsl(96,100%,54%)\">0.9668349563793398</td><td style=\"background-color:hsl(96,100%,54%)\">0.03124240715745202</td></tr><tr><td>frc3309</td><td style=\"background-color:hsl(88,100%,76%)\">0.8896506277949777</td><td style=\"background-color:hsl(88,100%,76%)\">0.17524072628393625</td></tr><tr><td>frc294</td><td style=\"background-color:hsl(86,100%,62%)\">0.8670341507263599</td><td style=\"background-color:hsl(86,100%,62%)\">0.08578868905965303</td></tr><tr><td>frc399</td><td style=\"background-color:hsl(79,100%,77%)\">0.7923372236674656</td><td style=\"background-color:hsl(79,100%,77%)\">0.18007240955607115</td></tr><tr><td>frc3476</td><td style=\"background-color:hsl(76,100%,79%)\">0.7679126641352716</td><td style=\"background-color:hsl(76,100%,79%)\">0.1945517142696203</td></tr><tr><td>frc2637</td><td style=\"background-color:hsl(76,100%,78%)\">0.7626578129672084</td><td style=\"background-color:hsl(76,100%,78%)\">0.19091289503213651</td></tr><tr><td>frc5124</td><td style=\"background-color:hsl(70,100%,88%)\">0.700786698504789</td><td style=\"background-color:hsl(70,100%,88%)\">0.2534131125461936</td></tr><tr><td>frc3647</td><td style=\"background-color:hsl(69,100%,90%)\">0.6973005744305883</td><td style=\"background-color:hsl(69,100%,90%)\">0.2705987113412613</td></tr><tr><td>frc1160</td><td style=\"background-color:hsl(67,100%,69%)\">0.6746760184260184</td><td style=\"background-color:hsl(67,100%,69%)\">0.13288523957876713</td></tr><tr><td>frc5805</td><td style=\"background-color:hsl(67,100%,89%)\">0.6739277389277389</td><td style=\"background-color:hsl(67,100%,89%)\">0.2608072969136756</td></tr><tr><td>frc2493</td><td style=\"background-color:hsl(66,100%,75%)\">0.6616517876367628</td><td style=\"background-color:hsl(66,100%,75%)\">0.16752217254007193</td></tr><tr><td>frc597</td><td style=\"background-color:hsl(61,100%,84%)\">0.6129383553869903</td><td style=\"background-color:hsl(61,100%,84%)\">0.22726963354463614</td></tr><tr><td>frc599</td><td style=\"background-color:hsl(55,100%,83%)\">0.5567006103955503</td><td style=\"background-color:hsl(55,100%,83%)\">0.22339978864973783</td></tr><tr><td>frc4276</td><td style=\"background-color:hsl(55,100%,89%)\">0.5528641803250745</td><td style=\"background-color:hsl(55,100%,89%)\">0.2617935293863765</td></tr><tr><td>frc6060</td><td style=\"background-color:hsl(53,100%,73%)\">0.536727456940223</td><td style=\"background-color:hsl(53,100%,73%)\">0.15374873353596757</td></tr><tr><td>frc3453</td><td style=\"background-color:hsl(52,100%,67%)\">0.5227043071870657</td><td style=\"background-color:hsl(52,100%,67%)\">0.11647869071268564</td></tr><tr><td>frc4322</td><td style=\"background-color:hsl(50,100%,90%)\">0.5099499497995739</td><td style=\"background-color:hsl(50,100%,90%)\">0.2668290005490725</td></tr><tr><td>frc3669</td><td style=\"background-color:hsl(50,100%,83%)\">0.509781313457784</td><td style=\"background-color:hsl(50,100%,83%)\">0.22625828438483161</td></tr><tr><td>frc981</td><td style=\"background-color:hsl(49,100%,92%)\">0.49590912460658176</td><td style=\"background-color:hsl(49,100%,92%)\">0.28243723847674146</td></tr><tr><td>frc4255</td><td style=\"background-color:hsl(48,100%,83%)\">0.4831768901102808</td><td style=\"background-color:hsl(48,100%,83%)\">0.2248142739472036</td></tr><tr><td>frc5012</td><td style=\"background-color:hsl(46,100%,95%)\">0.46325268135427466</td><td style=\"background-color:hsl(46,100%,95%)\">0.3063389827860559</td></tr><tr><td>frc4014</td><td style=\"background-color:hsl(43,100%,95%)\">0.43972483455242073</td><td style=\"background-color:hsl(43,100%,95%)\">0.30464946639412893</td></tr><tr><td>frc2429</td><td style=\"background-color:hsl(40,100%,90%)\">0.4077625860930776</td><td style=\"background-color:hsl(40,100%,90%)\">0.26815090582062534</td></tr><tr><td>frc980</td><td style=\"background-color:hsl(37,100%,76%)\">0.37819548973526296</td><td style=\"background-color:hsl(37,100%,76%)\">0.17616357367295957</td></tr><tr><td>frc2339</td><td style=\"background-color:hsl(37,100%,84%)\">0.3758601086399767</td><td style=\"background-color:hsl(37,100%,84%)\">0.23310220918988184</td></tr><tr><td>frc2658</td><td style=\"background-color:hsl(35,100%,80%)\">0.3548575592586482</td><td style=\"background-color:hsl(35,100%,80%)\">0.20451825638664417</td></tr><tr><td>frc4470</td><td style=\"background-color:hsl(34,100%,85%)\">0.3485904941580447</td><td style=\"background-color:hsl(34,100%,85%)\">0.23858613451612737</td></tr><tr><td>frc3390</td><td style=\"background-color:hsl(33,100%,69%)\">0.3312332321766284</td><td style=\"background-color:hsl(33,100%,69%)\">0.1284591836770719</td></tr><tr><td>frc5869</td><td style=\"background-color:hsl(28,100%,75%)\">0.28348309473042943</td><td style=\"background-color:hsl(28,100%,75%)\">0.17241636357091683</td></tr><tr><td>frc6072</td><td style=\"background-color:hsl(25,100%,83%)\">0.2503418803418803</td><td style=\"background-color:hsl(25,100%,83%)\">0.22471940117157627</td></tr><tr><td>frc4191</td><td style=\"background-color:hsl(24,100%,65%)\">0.24051209207459207</td><td style=\"background-color:hsl(24,100%,65%)\">0.10454807214723644</td></tr><tr><td>frc5474</td><td style=\"background-color:hsl(23,100%,83%)\">0.23296760710553813</td><td style=\"background-color:hsl(23,100%,83%)\">0.22542252445860633</td></tr><tr><td>frc5625</td><td style=\"background-color:hsl(19,100%,71%)\">0.1947095779990517</td><td style=\"background-color:hsl(19,100%,71%)\">0.1413860081882514</td></tr><tr><td>frc585</td><td style=\"background-color:hsl(14,100%,74%)\">0.14825286251458064</td><td style=\"background-color:hsl(14,100%,74%)\">0.16001677743384174</td></tr><tr><td>frc6382</td><td style=\"background-color:hsl(1,100%,50%)\">0.015151515151515152</td><td style=\"background-color:hsl(1,100%,50%)\">0.0</td></tr><tr><td>frc6973</td><td style=\"background-color:#ffffff\">None</td><td style=\"background-color:#ffffff\">None</td></tr></table>"
      ],
      "text/plain": [
       "<IPython.core.display.HTML object>"
      ]
     },
     "metadata": {},
     "output_type": "display_data"
    },
    {
     "data": {
      "text/html": [
       "<h1>Event: 2017calb</h1>Color determined by OPR Percentile.  Saturation determined by OPR Percentile Standard Deviation<table><tr><td></td><td>OPR P</td><td>OPR P SD</td></tr><tr><td>frc330</td><td style=\"background-color:hsl(96,100%,54%)\">0.9668349563793398</td><td style=\"background-color:hsl(96,100%,54%)\">0.03124240715745202</td></tr><tr><td>frc3309</td><td style=\"background-color:hsl(88,100%,76%)\">0.8896506277949777</td><td style=\"background-color:hsl(88,100%,76%)\">0.17524072628393625</td></tr><tr><td>frc294</td><td style=\"background-color:hsl(86,100%,62%)\">0.8670341507263599</td><td style=\"background-color:hsl(86,100%,62%)\">0.08578868905965303</td></tr><tr><td>frc2637</td><td style=\"background-color:hsl(76,100%,78%)\">0.7626578129672084</td><td style=\"background-color:hsl(76,100%,78%)\">0.19091289503213651</td></tr><tr><td>frc2486</td><td style=\"background-color:hsl(74,100%,83%)\">0.7425903828329473</td><td style=\"background-color:hsl(74,100%,83%)\">0.2261404054148349</td></tr><tr><td>frc3970</td><td style=\"background-color:hsl(73,100%,67%)\">0.7380011226078391</td><td style=\"background-color:hsl(73,100%,67%)\">0.11741855503386818</td></tr><tr><td>frc207</td><td style=\"background-color:hsl(73,100%,78%)\">0.7348538677839063</td><td style=\"background-color:hsl(73,100%,78%)\">0.19085093733964464</td></tr><tr><td>frc3512</td><td style=\"background-color:hsl(72,100%,90%)\">0.7281156568158657</td><td style=\"background-color:hsl(72,100%,90%)\">0.26803389057037996</td></tr><tr><td>frc696</td><td style=\"background-color:hsl(72,100%,79%)\">0.7256975676394263</td><td style=\"background-color:hsl(72,100%,79%)\">0.19381212099709935</td></tr><tr><td>frc4201</td><td style=\"background-color:hsl(70,100%,84%)\">0.7027959609704771</td><td style=\"background-color:hsl(70,100%,84%)\">0.22824708551895712</td></tr><tr><td>frc5124</td><td style=\"background-color:hsl(70,100%,88%)\">0.700786698504789</td><td style=\"background-color:hsl(70,100%,88%)\">0.2534131125461936</td></tr><tr><td>frc1197</td><td style=\"background-color:hsl(67,100%,82%)\">0.6720610094210154</td><td style=\"background-color:hsl(67,100%,82%)\">0.2135221040836021</td></tr><tr><td>frc2493</td><td style=\"background-color:hsl(66,100%,75%)\">0.6616517876367628</td><td style=\"background-color:hsl(66,100%,75%)\">0.16752217254007193</td></tr><tr><td>frc4</td><td style=\"background-color:hsl(65,100%,87%)\">0.6588067081969521</td><td style=\"background-color:hsl(65,100%,87%)\">0.2524119592313741</td></tr><tr><td>frc4619</td><td style=\"background-color:hsl(63,100%,76%)\">0.6361167964826501</td><td style=\"background-color:hsl(63,100%,76%)\">0.1774674827399883</td></tr><tr><td>frc597</td><td style=\"background-color:hsl(61,100%,84%)\">0.6129383553869903</td><td style=\"background-color:hsl(61,100%,84%)\">0.22726963354463614</td></tr><tr><td>frc2659</td><td style=\"background-color:hsl(60,100%,66%)\">0.6083333333333334</td><td style=\"background-color:hsl(60,100%,66%)\">0.10833333333333334</td></tr><tr><td>frc4123</td><td style=\"background-color:hsl(60,100%,73%)\">0.6059523809523809</td><td style=\"background-color:hsl(60,100%,73%)\">0.15595238095238093</td></tr><tr><td>frc4913</td><td style=\"background-color:hsl(58,100%,86%)\">0.5802466956602295</td><td style=\"background-color:hsl(58,100%,86%)\">0.2431237008103306</td></tr><tr><td>frc4415</td><td style=\"background-color:hsl(57,100%,87%)\">0.5753520879660697</td><td style=\"background-color:hsl(57,100%,87%)\">0.2467803154110071</td></tr><tr><td>frc3303</td><td style=\"background-color:hsl(56,100%,80%)\">0.5624666933075457</td><td style=\"background-color:hsl(56,100%,80%)\">0.20102041936072546</td></tr><tr><td>frc5089</td><td style=\"background-color:hsl(55,100%,91%)\">0.5512866305201687</td><td style=\"background-color:hsl(55,100%,91%)\">0.27580488056483904</td></tr><tr><td>frc1644</td><td style=\"background-color:hsl(54,100%,85%)\">0.5471823498139288</td><td style=\"background-color:hsl(54,100%,85%)\">0.23546704272079402</td></tr><tr><td>frc4501</td><td style=\"background-color:hsl(54,100%,92%)\">0.5444792026401059</td><td style=\"background-color:hsl(54,100%,92%)\">0.2836526821220404</td></tr><tr><td>frc687</td><td style=\"background-color:hsl(51,100%,79%)\">0.5176147054566508</td><td style=\"background-color:hsl(51,100%,79%)\">0.19948176906782633</td></tr><tr><td>frc1452</td><td style=\"background-color:hsl(50,100%,85%)\">0.506060606060606</td><td style=\"background-color:hsl(50,100%,85%)\">0.23546839006136255</td></tr><tr><td>frc4763</td><td style=\"background-color:hsl(49,100%,101%)\">0.4933691308691308</td><td style=\"background-color:hsl(49,100%,101%)\">0.3415245368687236</td></tr><tr><td>frc2761</td><td style=\"background-color:hsl(47,100%,88%)\">0.47544337402811476</td><td style=\"background-color:hsl(47,100%,88%)\">0.25749712248753803</td></tr><tr><td>frc848</td><td style=\"background-color:hsl(45,100%,75%)\">0.455050505050505</td><td style=\"background-color:hsl(45,100%,75%)\">0.16712669905611774</td></tr><tr><td>frc4999</td><td style=\"background-color:hsl(44,100%,80%)\">0.4466283716283716</td><td style=\"background-color:hsl(44,100%,80%)\">0.20405268985491395</td></tr><tr><td>frc5765</td><td style=\"background-color:hsl(44,100%,75%)\">0.44220032840722495</td><td style=\"background-color:hsl(44,100%,75%)\">0.1703864437550854</td></tr><tr><td>frc3880</td><td style=\"background-color:hsl(43,100%,93%)\">0.434774266747951</td><td style=\"background-color:hsl(43,100%,93%)\">0.2879234055528694</td></tr><tr><td>frc4578</td><td style=\"background-color:hsl(40,100%,63%)\">0.4083333333333333</td><td style=\"background-color:hsl(40,100%,63%)\">0.09166666666666667</td></tr><tr><td>frc1515</td><td style=\"background-color:hsl(40,100%,73%)\">0.4062036171019431</td><td style=\"background-color:hsl(40,100%,73%)\">0.15726621640345398</td></tr><tr><td>frc5966</td><td style=\"background-color:hsl(40,100%,89%)\">0.4015151515151515</td><td style=\"background-color:hsl(40,100%,89%)\">0.26515151515151514</td></tr><tr><td>frc702</td><td style=\"background-color:hsl(39,100%,98%)\">0.3943788511940001</td><td style=\"background-color:hsl(39,100%,98%)\">0.32401868562349223</td></tr><tr><td>frc580</td><td style=\"background-color:hsl(39,100%,88%)\">0.39404761904761904</td><td style=\"background-color:hsl(39,100%,88%)\">0.2584265796162504</td></tr><tr><td>frc5285</td><td style=\"background-color:hsl(39,100%,67%)\">0.3936771561771562</td><td style=\"background-color:hsl(39,100%,67%)\">0.11835663977004443</td></tr><tr><td>frc5669</td><td style=\"background-color:hsl(38,100%,90%)\">0.3863636363636364</td><td style=\"background-color:hsl(38,100%,90%)\">0.266841655166021</td></tr><tr><td>frc6499</td><td style=\"background-color:hsl(38,100%,50%)\">0.38333333333333336</td><td style=\"background-color:hsl(38,100%,50%)\">0.0</td></tr><tr><td>frc980</td><td style=\"background-color:hsl(37,100%,76%)\">0.37819548973526296</td><td style=\"background-color:hsl(37,100%,76%)\">0.17616357367295957</td></tr><tr><td>frc5512</td><td style=\"background-color:hsl(37,100%,84%)\">0.3757575757575758</td><td style=\"background-color:hsl(37,100%,84%)\">0.2271447451100264</td></tr><tr><td>frc4470</td><td style=\"background-color:hsl(34,100%,85%)\">0.3485904941580447</td><td style=\"background-color:hsl(34,100%,85%)\">0.23858613451612737</td></tr><tr><td>frc5102</td><td style=\"background-color:hsl(34,100%,92%)\">0.3434343434343434</td><td style=\"background-color:hsl(34,100%,92%)\">0.2827380808541092</td></tr><tr><td>frc5510</td><td style=\"background-color:hsl(33,100%,92%)\">0.3356818181818182</td><td style=\"background-color:hsl(33,100%,92%)\">0.2863837074094914</td></tr><tr><td>frc4964</td><td style=\"background-color:hsl(32,100%,91%)\">0.3283435399289058</td><td style=\"background-color:hsl(32,100%,91%)\">0.27989094862189895</td></tr><tr><td>frc6692</td><td style=\"background-color:hsl(31,100%,50%)\">0.31666666666666665</td><td style=\"background-color:hsl(31,100%,50%)\">0.0</td></tr><tr><td>frc691</td><td style=\"background-color:hsl(30,100%,74%)\">0.30377272800748456</td><td style=\"background-color:hsl(30,100%,74%)\">0.1629388960558805</td></tr><tr><td>frc5107</td><td style=\"background-color:hsl(28,100%,60%)\">0.2802631578947368</td><td style=\"background-color:hsl(28,100%,60%)\">0.06973684210526315</td></tr><tr><td>frc3408</td><td style=\"background-color:hsl(27,100%,72%)\">0.27634237107921317</td><td style=\"background-color:hsl(27,100%,72%)\">0.15309239959721654</td></tr><tr><td>frc6000</td><td style=\"background-color:hsl(26,100%,75%)\">0.2696969696969697</td><td style=\"background-color:hsl(26,100%,75%)\">0.16969696969696968</td></tr><tr><td>frc606</td><td style=\"background-color:hsl(25,100%,74%)\">0.2590909090909091</td><td style=\"background-color:hsl(25,100%,74%)\">0.1602674150350219</td></tr><tr><td>frc2404</td><td style=\"background-color:hsl(25,100%,64%)\">0.2532467532467533</td><td style=\"background-color:hsl(25,100%,64%)\">0.09971990908908608</td></tr><tr><td>frc3120</td><td style=\"background-color:hsl(20,100%,75%)\">0.20552928488468558</td><td style=\"background-color:hsl(20,100%,75%)\">0.16804259361227233</td></tr><tr><td>frc4019</td><td style=\"background-color:hsl(19,100%,70%)\">0.19646464646464645</td><td style=\"background-color:hsl(19,100%,70%)\">0.13398790961298296</td></tr><tr><td>frc867</td><td style=\"background-color:hsl(17,100%,59%)\">0.17929292929292928</td><td style=\"background-color:hsl(17,100%,59%)\">0.06614040835206463</td></tr><tr><td>frc5432</td><td style=\"background-color:hsl(17,100%,67%)\">0.17005772005772005</td><td style=\"background-color:hsl(17,100%,67%)\">0.11437727722482734</td></tr><tr><td>frc3952</td><td style=\"background-color:hsl(16,100%,61%)\">0.160118425635667</td><td style=\"background-color:hsl(16,100%,61%)\">0.0795017001602817</td></tr><tr><td>frc1759</td><td style=\"background-color:hsl(12,100%,70%)\">0.12134762256713476</td><td style=\"background-color:hsl(12,100%,70%)\">0.13851078238786466</td></tr><tr><td>frc6658</td><td style=\"background-color:hsl(4,100%,55%)\">0.049129353233830844</td><td style=\"background-color:hsl(4,100%,55%)\">0.034203980099502485</td></tr></table>"
      ],
      "text/plain": [
       "<IPython.core.display.HTML object>"
      ]
     },
     "metadata": {},
     "output_type": "display_data"
    },
    {
     "data": {
      "text/html": [
       "<h1>Event: 2017cc</h1>Color determined by OPR Percentile.  Saturation determined by OPR Percentile Standard Deviation<table><tr><td></td><td>OPR P</td><td>OPR P SD</td></tr><tr><td>frc254</td><td style=\"background-color:hsl(99,100%,51%)\">0.9920594362406211</td><td style=\"background-color:hsl(99,100%,51%)\">0.011328505154128693</td></tr><tr><td>frc1678</td><td style=\"background-color:hsl(98,100%,52%)\">0.9811761104514763</td><td style=\"background-color:hsl(98,100%,52%)\">0.013529528173670268</td></tr><tr><td>frc973</td><td style=\"background-color:hsl(96,100%,53%)\">0.9624740934187422</td><td style=\"background-color:hsl(96,100%,53%)\">0.022835540855692893</td></tr><tr><td>frc971</td><td style=\"background-color:hsl(95,100%,56%)\">0.9598866647800534</td><td style=\"background-color:hsl(95,100%,56%)\">0.040414210035810784</td></tr><tr><td>frc1538</td><td style=\"background-color:hsl(93,100%,60%)\">0.9340506307073976</td><td style=\"background-color:hsl(93,100%,60%)\">0.06776754903068292</td></tr><tr><td>frc3309</td><td style=\"background-color:hsl(88,100%,76%)\">0.8896506277949777</td><td style=\"background-color:hsl(88,100%,76%)\">0.17524072628393625</td></tr><tr><td>frc701</td><td style=\"background-color:hsl(83,100%,70%)\">0.834476912381749</td><td style=\"background-color:hsl(83,100%,70%)\">0.1344336751129024</td></tr><tr><td>frc399</td><td style=\"background-color:hsl(79,100%,77%)\">0.7923372236674656</td><td style=\"background-color:hsl(79,100%,77%)\">0.18007240955607115</td></tr><tr><td>frc1671</td><td style=\"background-color:hsl(78,100%,80%)\">0.784792149241849</td><td style=\"background-color:hsl(78,100%,80%)\">0.20567955048851894</td></tr><tr><td>frc846</td><td style=\"background-color:hsl(76,100%,59%)\">0.7697298133153397</td><td style=\"background-color:hsl(76,100%,59%)\">0.0649797992662614</td></tr><tr><td>frc3476</td><td style=\"background-color:hsl(76,100%,79%)\">0.7679126641352716</td><td style=\"background-color:hsl(76,100%,79%)\">0.1945517142696203</td></tr><tr><td>frc2073</td><td style=\"background-color:hsl(76,100%,78%)\">0.7652443784259197</td><td style=\"background-color:hsl(76,100%,78%)\">0.19042099560937797</td></tr><tr><td>frc5818</td><td style=\"background-color:hsl(72,100%,79%)\">0.728789817148026</td><td style=\"background-color:hsl(72,100%,79%)\">0.1973931995567787</td></tr><tr><td>frc696</td><td style=\"background-color:hsl(72,100%,79%)\">0.7256975676394263</td><td style=\"background-color:hsl(72,100%,79%)\">0.19381212099709935</td></tr><tr><td>frc649</td><td style=\"background-color:hsl(72,100%,68%)\">0.7238042423416334</td><td style=\"background-color:hsl(72,100%,68%)\">0.12074796283331235</td></tr><tr><td>frc1011</td><td style=\"background-color:hsl(69,100%,83%)\">0.6995235980371524</td><td style=\"background-color:hsl(69,100%,83%)\">0.22550011415871618</td></tr><tr><td>frc3647</td><td style=\"background-color:hsl(69,100%,90%)\">0.6973005744305883</td><td style=\"background-color:hsl(69,100%,90%)\">0.2705987113412613</td></tr><tr><td>frc3256</td><td style=\"background-color:hsl(67,100%,83%)\">0.6775719014129287</td><td style=\"background-color:hsl(67,100%,83%)\">0.225441644888219</td></tr><tr><td>frc115</td><td style=\"background-color:hsl(61,100%,91%)\">0.6178428321822997</td><td style=\"background-color:hsl(61,100%,91%)\">0.2750569061500388</td></tr><tr><td>frc2135</td><td style=\"background-color:hsl(59,100%,65%)\">0.5988919286413468</td><td style=\"background-color:hsl(59,100%,65%)\">0.10588784301428036</td></tr><tr><td>frc3859</td><td style=\"background-color:hsl(58,100%,79%)\">0.5828633271490414</td><td style=\"background-color:hsl(58,100%,79%)\">0.19955674334035975</td></tr><tr><td>frc5829</td><td style=\"background-color:hsl(58,100%,69%)\">0.5821798470779177</td><td style=\"background-color:hsl(58,100%,69%)\">0.12922843143298415</td></tr><tr><td>frc1323</td><td style=\"background-color:hsl(57,100%,98%)\">0.5784005340561698</td><td style=\"background-color:hsl(57,100%,98%)\">0.3218552448663397</td></tr><tr><td>frc1868</td><td style=\"background-color:hsl(57,100%,89%)\">0.5734337708288398</td><td style=\"background-color:hsl(57,100%,89%)\">0.26478484813345</td></tr><tr><td>frc114</td><td style=\"background-color:hsl(55,100%,93%)\">0.5513295787321569</td><td style=\"background-color:hsl(55,100%,93%)\">0.2913199856867942</td></tr><tr><td>frc4904</td><td style=\"background-color:hsl(52,100%,93%)\">0.5293247312484806</td><td style=\"background-color:hsl(52,100%,93%)\">0.29087941151579333</td></tr><tr><td>frc604</td><td style=\"background-color:hsl(52,100%,91%)\">0.5257737745136267</td><td style=\"background-color:hsl(52,100%,91%)\">0.27342093941257356</td></tr><tr><td>frc8</td><td style=\"background-color:hsl(52,100%,90%)\">0.5201182796683267</td><td style=\"background-color:hsl(52,100%,90%)\">0.26954193704011414</td></tr><tr><td>frc6418</td><td style=\"background-color:hsl(51,100%,97%)\">0.5154390648384096</td><td style=\"background-color:hsl(51,100%,97%)\">0.3175033927451955</td></tr><tr><td>frc199</td><td style=\"background-color:hsl(51,100%,82%)\">0.514462842039801</td><td style=\"background-color:hsl(51,100%,82%)\">0.21387558414097788</td></tr><tr><td>frc5104</td><td style=\"background-color:hsl(49,100%,92%)\">0.4912059989784313</td><td style=\"background-color:hsl(49,100%,92%)\">0.28526994205405015</td></tr><tr><td>frc5499</td><td style=\"background-color:hsl(48,100%,88%)\">0.4812380129018415</td><td style=\"background-color:hsl(48,100%,88%)\">0.25925141820375475</td></tr><tr><td>frc668</td><td style=\"background-color:hsl(47,100%,96%)\">0.4796553815247653</td><td style=\"background-color:hsl(47,100%,96%)\">0.3105443875467901</td></tr><tr><td>frc3925</td><td style=\"background-color:hsl(46,100%,69%)\">0.4666003315162138</td><td style=\"background-color:hsl(46,100%,69%)\">0.12833282895385847</td></tr><tr><td>frc1700</td><td style=\"background-color:hsl(46,100%,92%)\">0.46620251265342144</td><td style=\"background-color:hsl(46,100%,92%)\">0.28455404079592755</td></tr><tr><td>frc5012</td><td style=\"background-color:hsl(46,100%,95%)\">0.46325268135427466</td><td style=\"background-color:hsl(46,100%,95%)\">0.3063389827860559</td></tr><tr><td>frc5026</td><td style=\"background-color:hsl(41,100%,93%)\">0.41829747595151956</td><td style=\"background-color:hsl(41,100%,93%)\">0.2877900112077281</td></tr><tr><td>frc968</td><td style=\"background-color:hsl(39,100%,92%)\">0.3944124426928122</td><td style=\"background-color:hsl(39,100%,92%)\">0.28167278145173413</td></tr><tr><td>frc841</td><td style=\"background-color:hsl(36,100%,80%)\">0.36887439532162736</td><td style=\"background-color:hsl(36,100%,80%)\">0.20601089446240536</td></tr><tr><td>frc4990</td><td style=\"background-color:hsl(31,100%,83%)\">0.3132558716595332</td><td style=\"background-color:hsl(31,100%,83%)\">0.22033531400481876</td></tr></table>"
      ],
      "text/plain": [
       "<IPython.core.display.HTML object>"
      ]
     },
     "metadata": {},
     "output_type": "display_data"
    },
    {
     "data": {
      "text/html": [
       "<h1>Event: 2018casj</h1>Color determined by OPR Percentile.  Saturation determined by OPR Percentile Standard Deviation<table><tr><td></td><td>OPR P</td><td>OPR P SD</td></tr><tr><td>frc254</td><td style=\"background-color:hsl(99,100%,51%)\">0.9920594362406211</td><td style=\"background-color:hsl(99,100%,51%)\">0.011328505154128693</td></tr><tr><td>frc973</td><td style=\"background-color:hsl(96,100%,53%)\">0.9624740934187422</td><td style=\"background-color:hsl(96,100%,53%)\">0.022835540855692893</td></tr><tr><td>frc971</td><td style=\"background-color:hsl(95,100%,56%)\">0.9598866647800534</td><td style=\"background-color:hsl(95,100%,56%)\">0.040414210035810784</td></tr><tr><td>frc192</td><td style=\"background-color:hsl(82,100%,79%)\">0.8240869214326099</td><td style=\"background-color:hsl(82,100%,79%)\">0.194304787827679</td></tr><tr><td>frc3132</td><td style=\"background-color:hsl(82,100%,76%)\">0.8208888495094109</td><td style=\"background-color:hsl(82,100%,76%)\">0.17862155250399414</td></tr><tr><td>frc846</td><td style=\"background-color:hsl(76,100%,59%)\">0.7697298133153397</td><td style=\"background-color:hsl(76,100%,59%)\">0.0649797992662614</td></tr><tr><td>frc383</td><td style=\"background-color:hsl(70,100%,67%)\">0.7056708900102384</td><td style=\"background-color:hsl(70,100%,67%)\">0.11515359715788703</td></tr><tr><td>frc2144</td><td style=\"background-color:hsl(69,100%,82%)\">0.6946666975793744</td><td style=\"background-color:hsl(69,100%,82%)\">0.2168524343422375</td></tr><tr><td>frc5924</td><td style=\"background-color:hsl(65,100%,83%)\">0.6591229674796748</td><td style=\"background-color:hsl(65,100%,83%)\">0.22472013801571875</td></tr><tr><td>frc6036</td><td style=\"background-color:hsl(65,100%,83%)\">0.6522357723577236</td><td style=\"background-color:hsl(65,100%,83%)\">0.22157473504379885</td></tr><tr><td>frc2135</td><td style=\"background-color:hsl(59,100%,65%)\">0.5988919286413468</td><td style=\"background-color:hsl(59,100%,65%)\">0.10588784301428036</td></tr><tr><td>frc1351</td><td style=\"background-color:hsl(58,100%,76%)\">0.5896963390619406</td><td style=\"background-color:hsl(58,100%,76%)\">0.17927347972993438</td></tr><tr><td>frc2035</td><td style=\"background-color:hsl(57,100%,81%)\">0.5751681205508227</td><td style=\"background-color:hsl(57,100%,81%)\">0.21106370485079293</td></tr><tr><td>frc1868</td><td style=\"background-color:hsl(57,100%,89%)\">0.5734337708288398</td><td style=\"background-color:hsl(57,100%,89%)\">0.26478484813345</td></tr><tr><td>frc6039</td><td style=\"background-color:hsl(54,100%,81%)\">0.5416666666666666</td><td style=\"background-color:hsl(54,100%,81%)\">0.20833333333333334</td></tr><tr><td>frc4904</td><td style=\"background-color:hsl(52,100%,93%)\">0.5293247312484806</td><td style=\"background-color:hsl(52,100%,93%)\">0.29087941151579333</td></tr><tr><td>frc604</td><td style=\"background-color:hsl(52,100%,91%)\">0.5257737745136267</td><td style=\"background-color:hsl(52,100%,91%)\">0.27342093941257356</td></tr><tr><td>frc8</td><td style=\"background-color:hsl(52,100%,90%)\">0.5201182796683267</td><td style=\"background-color:hsl(52,100%,90%)\">0.26954193704011414</td></tr><tr><td>frc6418</td><td style=\"background-color:hsl(51,100%,97%)\">0.5154390648384096</td><td style=\"background-color:hsl(51,100%,97%)\">0.3175033927451955</td></tr><tr><td>frc852</td><td style=\"background-color:hsl(51,100%,88%)\">0.514797965658828</td><td style=\"background-color:hsl(51,100%,88%)\">0.2553046489133242</td></tr><tr><td>frc581</td><td style=\"background-color:hsl(50,100%,90%)\">0.5069944887989427</td><td style=\"background-color:hsl(50,100%,90%)\">0.26835645668522995</td></tr><tr><td>frc1967</td><td style=\"background-color:hsl(50,100%,76%)\">0.5066654732068265</td><td style=\"background-color:hsl(50,100%,76%)\">0.17505277656402282</td></tr><tr><td>frc4669</td><td style=\"background-color:hsl(50,100%,85%)\">0.5048338348643228</td><td style=\"background-color:hsl(50,100%,85%)\">0.23869614501923417</td></tr><tr><td>frc3482</td><td style=\"background-color:hsl(49,100%,86%)\">0.4957150107047526</td><td style=\"background-color:hsl(49,100%,86%)\">0.24021985387392086</td></tr><tr><td>frc4255</td><td style=\"background-color:hsl(48,100%,83%)\">0.4831768901102808</td><td style=\"background-color:hsl(48,100%,83%)\">0.2248142739472036</td></tr><tr><td>frc5499</td><td style=\"background-color:hsl(48,100%,88%)\">0.4812380129018415</td><td style=\"background-color:hsl(48,100%,88%)\">0.25925141820375475</td></tr><tr><td>frc668</td><td style=\"background-color:hsl(47,100%,96%)\">0.4796553815247653</td><td style=\"background-color:hsl(47,100%,96%)\">0.3105443875467901</td></tr><tr><td>frc1072</td><td style=\"background-color:hsl(47,100%,101%)\">0.47624401913875597</td><td style=\"background-color:hsl(47,100%,101%)\">0.34552746818472024</td></tr><tr><td>frc1700</td><td style=\"background-color:hsl(46,100%,92%)\">0.46620251265342144</td><td style=\"background-color:hsl(46,100%,92%)\">0.28455404079592755</td></tr><tr><td>frc751</td><td style=\"background-color:hsl(45,100%,101%)\">0.4500655450683446</td><td style=\"background-color:hsl(45,100%,101%)\">0.3442474226357632</td></tr><tr><td>frc670</td><td style=\"background-color:hsl(44,100%,96%)\">0.4416799767819462</td><td style=\"background-color:hsl(44,100%,96%)\">0.3106145347976756</td></tr><tr><td>frc4186</td><td style=\"background-color:hsl(43,100%,79%)\">0.43572047496790756</td><td style=\"background-color:hsl(43,100%,79%)\">0.19807996754116913</td></tr><tr><td>frc4159</td><td style=\"background-color:hsl(42,100%,75%)\">0.4286956130625899</td><td style=\"background-color:hsl(42,100%,75%)\">0.17018193927302247</td></tr><tr><td>frc2643</td><td style=\"background-color:hsl(40,100%,96%)\">0.40021785691778494</td><td style=\"background-color:hsl(40,100%,96%)\">0.3089879981122203</td></tr><tr><td>frc2489</td><td style=\"background-color:hsl(38,100%,91%)\">0.3897360588972431</td><td style=\"background-color:hsl(38,100%,91%)\">0.27743633878846286</td></tr><tr><td>frc2473</td><td style=\"background-color:hsl(38,100%,96%)\">0.38522408109260037</td><td style=\"background-color:hsl(38,100%,96%)\">0.30743014887998993</td></tr><tr><td>frc841</td><td style=\"background-color:hsl(36,100%,80%)\">0.36887439532162736</td><td style=\"background-color:hsl(36,100%,80%)\">0.20601089446240536</td></tr><tr><td>frc4091</td><td style=\"background-color:hsl(34,100%,80%)\">0.3468029172320217</td><td style=\"background-color:hsl(34,100%,80%)\">0.206316888028452</td></tr><tr><td>frc5737</td><td style=\"background-color:hsl(31,100%,85%)\">0.31983204165309526</td><td style=\"background-color:hsl(31,100%,85%)\">0.23862913411955297</td></tr><tr><td>frc4990</td><td style=\"background-color:hsl(31,100%,83%)\">0.3132558716595332</td><td style=\"background-color:hsl(31,100%,83%)\">0.22033531400481876</td></tr><tr><td>frc4973</td><td style=\"background-color:hsl(31,100%,75%)\">0.3100138769476749</td><td style=\"background-color:hsl(31,100%,75%)\">0.16743621939261347</td></tr><tr><td>frc6665</td><td style=\"background-color:hsl(30,100%,78%)\">0.30833333333333335</td><td style=\"background-color:hsl(30,100%,78%)\">0.19166666666666665</td></tr><tr><td>frc4171</td><td style=\"background-color:hsl(30,100%,73%)\">0.307390574650913</td><td style=\"background-color:hsl(30,100%,73%)\">0.15531219246593103</td></tr><tr><td>frc2367</td><td style=\"background-color:hsl(30,100%,77%)\">0.3055852373144106</td><td style=\"background-color:hsl(30,100%,77%)\">0.18178875580740408</td></tr><tr><td>frc2813</td><td style=\"background-color:hsl(29,100%,84%)\">0.29747176181071283</td><td style=\"background-color:hsl(29,100%,84%)\">0.23132889217631447</td></tr><tr><td>frc256</td><td style=\"background-color:hsl(22,100%,72%)\">0.22833394871106338</td><td style=\"background-color:hsl(22,100%,72%)\">0.1489104250686248</td></tr><tr><td>frc5171</td><td style=\"background-color:hsl(20,100%,64%)\">0.2034722222222222</td><td style=\"background-color:hsl(20,100%,64%)\">0.09884069518518855</td></tr><tr><td>frc253</td><td style=\"background-color:hsl(17,100%,62%)\">0.17689393939393938</td><td style=\"background-color:hsl(17,100%,62%)\">0.0819250844821126</td></tr><tr><td>frc6688</td><td style=\"background-color:hsl(16,100%,50%)\">0.16666666666666666</td><td style=\"background-color:hsl(16,100%,50%)\">0.0</td></tr><tr><td>frc5027</td><td style=\"background-color:hsl(14,100%,70%)\">0.14155701754385963</td><td style=\"background-color:hsl(14,100%,70%)\">0.1373253160927785</td></tr><tr><td>frc6619</td><td style=\"background-color:hsl(12,100%,61%)\">0.12127659574468086</td><td style=\"background-color:hsl(12,100%,61%)\">0.07872340425531915</td></tr><tr><td>frc6718</td><td style=\"background-color:hsl(4,100%,50%)\">0.04878048780487805</td><td style=\"background-color:hsl(4,100%,50%)\">0.0</td></tr><tr><td>frc6410</td><td style=\"background-color:hsl(1,100%,50%)\">0.016666666666666666</td><td style=\"background-color:hsl(1,100%,50%)\">0.0</td></tr><tr><td>frc7317</td><td style=\"background-color:#ffffff\">None</td><td style=\"background-color:#ffffff\">None</td></tr><tr><td>frc7308</td><td style=\"background-color:#ffffff\">None</td><td style=\"background-color:#ffffff\">None</td></tr><tr><td>frc7245</td><td style=\"background-color:#ffffff\">None</td><td style=\"background-color:#ffffff\">None</td></tr><tr><td>frc6884</td><td style=\"background-color:#ffffff\">None</td><td style=\"background-color:#ffffff\">None</td></tr><tr><td>frc6883</td><td style=\"background-color:#ffffff\">None</td><td style=\"background-color:#ffffff\">None</td></tr><tr><td>frc6303</td><td style=\"background-color:#ffffff\">None</td><td style=\"background-color:#ffffff\">None</td></tr><tr><td>frc6238</td><td style=\"background-color:#ffffff\">None</td><td style=\"background-color:#ffffff\">None</td></tr></table>"
      ],
      "text/plain": [
       "<IPython.core.display.HTML object>"
      ]
     },
     "metadata": {},
     "output_type": "display_data"
    },
    {
     "data": {
      "text/html": [
       "<h1>Event: 2018casf</h1>Color determined by OPR Percentile.  Saturation determined by OPR Percentile Standard Deviation<table><tr><td></td><td>OPR P</td><td>OPR P SD</td></tr><tr><td>frc973</td><td style=\"background-color:hsl(96,100%,53%)\">0.9624740934187422</td><td style=\"background-color:hsl(96,100%,53%)\">0.022835540855692893</td></tr><tr><td>frc971</td><td style=\"background-color:hsl(95,100%,56%)\">0.9598866647800534</td><td style=\"background-color:hsl(95,100%,56%)\">0.040414210035810784</td></tr><tr><td>frc6662</td><td style=\"background-color:hsl(87,100%,50%)\">0.8780487804878049</td><td style=\"background-color:hsl(87,100%,50%)\">0.0</td></tr><tr><td>frc2383</td><td style=\"background-color:hsl(74,100%,75%)\">0.7467037294308515</td><td style=\"background-color:hsl(74,100%,75%)\">0.16928033445260593</td></tr><tr><td>frc649</td><td style=\"background-color:hsl(72,100%,68%)\">0.7238042423416334</td><td style=\"background-color:hsl(72,100%,68%)\">0.12074796283331235</td></tr><tr><td>frc5924</td><td style=\"background-color:hsl(65,100%,83%)\">0.6591229674796748</td><td style=\"background-color:hsl(65,100%,83%)\">0.22472013801571875</td></tr><tr><td>frc6036</td><td style=\"background-color:hsl(65,100%,83%)\">0.6522357723577236</td><td style=\"background-color:hsl(65,100%,83%)\">0.22157473504379885</td></tr><tr><td>frc5700</td><td style=\"background-color:hsl(60,100%,54%)\">0.6016460740265298</td><td style=\"background-color:hsl(60,100%,54%)\">0.02768653993935086</td></tr><tr><td>frc5419</td><td style=\"background-color:hsl(53,100%,50%)\">0.5365853658536586</td><td style=\"background-color:hsl(53,100%,50%)\">0.0</td></tr><tr><td>frc4904</td><td style=\"background-color:hsl(52,100%,93%)\">0.5293247312484806</td><td style=\"background-color:hsl(52,100%,93%)\">0.29087941151579333</td></tr><tr><td>frc604</td><td style=\"background-color:hsl(52,100%,91%)\">0.5257737745136267</td><td style=\"background-color:hsl(52,100%,91%)\">0.27342093941257356</td></tr><tr><td>frc5940</td><td style=\"background-color:hsl(51,100%,92%)\">0.5173348577235772</td><td style=\"background-color:hsl(51,100%,92%)\">0.28492451576122413</td></tr><tr><td>frc6418</td><td style=\"background-color:hsl(51,100%,97%)\">0.5154390648384096</td><td style=\"background-color:hsl(51,100%,97%)\">0.3175033927451955</td></tr><tr><td>frc199</td><td style=\"background-color:hsl(51,100%,82%)\">0.514462842039801</td><td style=\"background-color:hsl(51,100%,82%)\">0.21387558414097788</td></tr><tr><td>frc100</td><td style=\"background-color:hsl(51,100%,84%)\">0.513939577026983</td><td style=\"background-color:hsl(51,100%,84%)\">0.23237323168899596</td></tr><tr><td>frc581</td><td style=\"background-color:hsl(50,100%,90%)\">0.5069944887989427</td><td style=\"background-color:hsl(50,100%,90%)\">0.26835645668522995</td></tr><tr><td>frc4669</td><td style=\"background-color:hsl(50,100%,85%)\">0.5048338348643228</td><td style=\"background-color:hsl(50,100%,85%)\">0.23869614501923417</td></tr><tr><td>frc5104</td><td style=\"background-color:hsl(49,100%,92%)\">0.4912059989784313</td><td style=\"background-color:hsl(49,100%,92%)\">0.28526994205405015</td></tr><tr><td>frc5499</td><td style=\"background-color:hsl(48,100%,88%)\">0.4812380129018415</td><td style=\"background-color:hsl(48,100%,88%)\">0.25925141820375475</td></tr><tr><td>frc6415</td><td style=\"background-color:hsl(45,100%,50%)\">0.4583333333333333</td><td style=\"background-color:hsl(45,100%,50%)\">0.0</td></tr><tr><td>frc1458</td><td style=\"background-color:hsl(45,100%,83%)\">0.45287209720758753</td><td style=\"background-color:hsl(45,100%,83%)\">0.22102214198537365</td></tr><tr><td>frc5993</td><td style=\"background-color:hsl(45,100%,82%)\">0.450354609929078</td><td style=\"background-color:hsl(45,100%,82%)\">0.21631205673758863</td></tr><tr><td>frc972</td><td style=\"background-color:hsl(44,100%,72%)\">0.4493822595527573</td><td style=\"background-color:hsl(44,100%,72%)\">0.14749601048782265</td></tr><tr><td>frc2551</td><td style=\"background-color:hsl(44,100%,89%)\">0.44844877344877343</td><td style=\"background-color:hsl(44,100%,89%)\">0.2604132445131618</td></tr><tr><td>frc5507</td><td style=\"background-color:hsl(44,100%,58%)\">0.447263356562137</td><td style=\"background-color:hsl(44,100%,58%)\">0.05366200246972575</td></tr><tr><td>frc4186</td><td style=\"background-color:hsl(43,100%,79%)\">0.43572047496790756</td><td style=\"background-color:hsl(43,100%,79%)\">0.19807996754116913</td></tr><tr><td>frc3880</td><td style=\"background-color:hsl(43,100%,93%)\">0.434774266747951</td><td style=\"background-color:hsl(43,100%,93%)\">0.2879234055528694</td></tr><tr><td>frc4159</td><td style=\"background-color:hsl(42,100%,75%)\">0.4286956130625899</td><td style=\"background-color:hsl(42,100%,75%)\">0.17018193927302247</td></tr><tr><td>frc5026</td><td style=\"background-color:hsl(41,100%,93%)\">0.41829747595151956</td><td style=\"background-color:hsl(41,100%,93%)\">0.2877900112077281</td></tr><tr><td>frc766</td><td style=\"background-color:hsl(41,100%,75%)\">0.4117691679309137</td><td style=\"background-color:hsl(41,100%,75%)\">0.16755990173555588</td></tr><tr><td>frc2489</td><td style=\"background-color:hsl(38,100%,91%)\">0.3897360588972431</td><td style=\"background-color:hsl(38,100%,91%)\">0.27743633878846286</td></tr><tr><td>frc4765</td><td style=\"background-color:hsl(31,100%,76%)\">0.3131797354157752</td><td style=\"background-color:hsl(31,100%,76%)\">0.17558232777413613</td></tr><tr><td>frc4973</td><td style=\"background-color:hsl(31,100%,75%)\">0.3100138769476749</td><td style=\"background-color:hsl(31,100%,75%)\">0.16743621939261347</td></tr><tr><td>frc6665</td><td style=\"background-color:hsl(30,100%,78%)\">0.30833333333333335</td><td style=\"background-color:hsl(30,100%,78%)\">0.19166666666666665</td></tr><tr><td>frc2854</td><td style=\"background-color:hsl(26,100%,66%)\">0.269834790864356</td><td style=\"background-color:hsl(26,100%,66%)\">0.10977810282920974</td></tr><tr><td>frc5430</td><td style=\"background-color:hsl(20,100%,86%)\">0.20336865400496937</td><td style=\"background-color:hsl(20,100%,86%)\">0.24649134178789786</td></tr><tr><td>frc253</td><td style=\"background-color:hsl(17,100%,62%)\">0.17689393939393938</td><td style=\"background-color:hsl(17,100%,62%)\">0.0819250844821126</td></tr><tr><td>frc6718</td><td style=\"background-color:hsl(4,100%,50%)\">0.04878048780487805</td><td style=\"background-color:hsl(4,100%,50%)\">0.0</td></tr><tr><td>frc7317</td><td style=\"background-color:#ffffff\">None</td><td style=\"background-color:#ffffff\">None</td></tr><tr><td>frc7137</td><td style=\"background-color:#ffffff\">None</td><td style=\"background-color:#ffffff\">None</td></tr><tr><td>frc6981</td><td style=\"background-color:#ffffff\">None</td><td style=\"background-color:#ffffff\">None</td></tr><tr><td>frc6962</td><td style=\"background-color:#ffffff\">None</td><td style=\"background-color:#ffffff\">None</td></tr><tr><td>frc6814</td><td style=\"background-color:#ffffff\">None</td><td style=\"background-color:#ffffff\">None</td></tr></table>"
      ],
      "text/plain": [
       "<IPython.core.display.HTML object>"
      ]
     },
     "metadata": {},
     "output_type": "display_data"
    }
   ],
   "source": [
    "def prescout_event(event):\n",
    "    teams = event_teams(event)\n",
    "    opr_strengths = [(team, team_opr_strength(team)) for team in teams]\n",
    "    return opr_strengths\n",
    "\n",
    "def stats_to_color(stats):\n",
    "    if stats['average'] is None:\n",
    "        return '#ffffff'\n",
    "    color = int(stats['average'] * 100)\n",
    "    lightness = 50 + int(stats['stddev'] * 150)\n",
    "    return \"hsl({:d},{:d}%,{:d}%)\".format(color, 100, lightness)\n",
    "    \n",
    "\n",
    "def format_event_report(report):\n",
    "    report = sorted(report, key=lambda x: x[1]['average'] if x[1]['average'] else 0)[::-1]\n",
    "    table = TableBuilder(row='team', col='stat')\n",
    "    \n",
    "    table.set_cols([\"OPR P\", \"OPR P SD\"])\n",
    "    \n",
    "    for team, stats in report:\n",
    "        table.set_cell(stats['average'], color=stats_to_color(stats), team=team, stat='OPR P')\n",
    "        table.set_cell(stats['stddev'], color=stats_to_color(stats), team=team, stat='OPR P SD')\n",
    "    \n",
    "    return table.get_html()\n",
    "\n",
    "for event in ['2018caav', '2017calb', '2017cc', '2018casj', '2018casf']:\n",
    "    display(HTML(\n",
    "            \"<h1>Event: {:s}</h1>\".format(event) +\n",
    "            \"Color determined by OPR Percentile.  Saturation determined by OPR Percentile Standard Deviation\" +\n",
    "            format_event_report(prescout_event(event))\n",
    "    ))"
   ]
  }
 ],
 "metadata": {
  "anaconda-cloud": {},
  "kernelspec": {
   "display_name": "py35native",
   "language": "python",
   "name": "py35native"
  },
  "language_info": {
   "codemirror_mode": {
    "name": "ipython",
    "version": 3
   },
   "file_extension": ".py",
   "mimetype": "text/x-python",
   "name": "python",
   "nbconvert_exporter": "python",
   "pygments_lexer": "ipython3",
   "version": "3.5.2"
  }
 },
 "nbformat": 4,
 "nbformat_minor": 1
}
