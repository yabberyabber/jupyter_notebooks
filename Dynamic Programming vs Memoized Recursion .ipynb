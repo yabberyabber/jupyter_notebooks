{
 "cells": [
  {
   "cell_type": "code",
   "execution_count": 1,
   "metadata": {
    "collapsed": true
   },
   "outputs": [],
   "source": [
    "MISMATCH_COST = 2\n",
    "GAP_COST = 1"
   ]
  },
  {
   "cell_type": "code",
   "execution_count": 2,
   "metadata": {
    "collapsed": false
   },
   "outputs": [
    {
     "name": "stdout",
     "output_type": "stream",
     "text": [
      "c  c\n",
      "o  o\n",
      "r  r\n",
      "-  r\n",
      "e  e\n",
      "c  c\n",
      "t  t\n"
     ]
    }
   ],
   "source": [
    "\"\"\"\n",
    "Edit distance using recursive approach\n",
    "\"\"\"\n",
    "\n",
    "import functools\n",
    "\n",
    "@functools.lru_cache(maxsize=None)\n",
    "def get_cost(a, b):\n",
    "    if len(a) == 0:\n",
    "        return len(b) * GAP_COST\n",
    "    if len(b) == 0:\n",
    "        return len(a) * GAP_COST\n",
    "    \n",
    "    if a[0] == b[0]:\n",
    "        return get_cost(a[1:], b[1:])\n",
    "    else:\n",
    "        return min(\n",
    "            get_cost(a[1:], b[1:]) + MISMATCH_COST,\n",
    "            get_cost(a, b[1:]) + GAP_COST,\n",
    "            get_cost(a[1:], b) + GAP_COST\n",
    "        )\n",
    "    \n",
    "def print_edit_join(a, b):\n",
    "    if not a and not b:\n",
    "        pass\n",
    "    elif not a:\n",
    "        print(\"{}  {}\".format(\"-\", b[0]))\n",
    "        print_edit_join(a, b[1:])\n",
    "    elif not b:\n",
    "        print(\"{}  {}\".format(a[0], \"-\"))\n",
    "        print_edit_join(a[1:], b)\n",
    "    elif a[0] == b[0]:\n",
    "        print(\"{}  {}\".format(a[0], b[0]))\n",
    "        print_edit_join(a[1:], b[1:])\n",
    "    else:\n",
    "        mismatch_cost = get_cost(a[1:], b[1:]) + MISMATCH_COST\n",
    "        a_gap_cost = get_cost(a, b[1:]) + GAP_COST\n",
    "        b_gap_cost = get_cost(a[1:], b) + GAP_COST\n",
    "        \n",
    "        if mismatch_cost < a_gap_cost and mismatch_cost < b_gap_cost:\n",
    "            print(\"{}  {}\".format(a[0], b[0]))\n",
    "            print_edit_join(a[1:], b[1:])\n",
    "        elif a_gap_cost < b_gap_cost:\n",
    "            print(\"{}  {}\".format(\"-\", b[0]))\n",
    "            print_edit_join(a, b[1:])\n",
    "        else:\n",
    "            print(\"{}  {}\".format(a[0], \"-\"))\n",
    "            print_edit_join(a[1:], b)\n",
    "\n",
    "print_edit_join(\"corect\", \"correct\")"
   ]
  },
  {
   "cell_type": "code",
   "execution_count": 9,
   "metadata": {
    "collapsed": false
   },
   "outputs": [
    {
     "name": "stdout",
     "output_type": "stream",
     "text": [
      "A  B\n",
      "----\n",
      "e  e\n",
      "l  l\n",
      "p  -\n",
      "p  p\n",
      "a  a\n"
     ]
    }
   ],
   "source": [
    "\"\"\"\n",
    "Classig Edit distance algorithm\n",
    "\"\"\"\n",
    "\n",
    "def dp_edit_distance(str_a, str_b):\n",
    "    subsol = [[None for _ in range(len(str_b) + 1)] for _ in range(len(str_a) + 1)]\n",
    "    \n",
    "    \"\"\"\n",
    "    Populate the first row and col (represents the case where there\n",
    "    is absolutely no commonality between the two strings)\n",
    "    \"\"\"\n",
    "    for i in range(len(str_b) + 1):\n",
    "        subsol[0][i] = i * GAP_COST\n",
    "    for i in range(len(str_a) + 1):\n",
    "        subsol[i][0] = i * GAP_COST\n",
    "    \n",
    "    for a_idx in range(len(str_a)):\n",
    "        for b_idx in range(len(str_b)):\n",
    "            if str_a[a_idx] == str_b[b_idx]:\n",
    "                match_cost = subsol[a_idx][b_idx]\n",
    "            else:\n",
    "                match_cost = subsol[a_idx][b_idx] + MISMATCH_COST\n",
    "                \n",
    "            a_gap_cost = subsol[a_idx][b_idx + 1] + GAP_COST\n",
    "            b_gap_cost = subsol[a_idx + 1][b_idx] + GAP_COST\n",
    "            \n",
    "            if match_cost < a_gap_cost and match_cost < b_gap_cost:\n",
    "                subsol[a_idx + 1][b_idx + 1] = match_cost\n",
    "            elif a_gap_cost < b_gap_cost:\n",
    "                subsol[a_idx + 1][b_idx + 1] = a_gap_cost\n",
    "            else:\n",
    "                subsol[a_idx + 1][b_idx + 1] = b_gap_cost\n",
    "                \n",
    "    a_idx = len(str_a)\n",
    "    b_idx = len(str_b)\n",
    "    fmtstring = \"{a_char}  {b_char}\"\n",
    "    print(fmtstring.format(a_char=\"A\", b_char=\"B\"))\n",
    "    print(\"-\" * len(fmtstring.format(a_char=\"A\", b_char=\"B\")))\n",
    "    while a_idx > 0 or b_idx > 0:\n",
    "        if a_idx == 0:\n",
    "            b_idx -= 1\n",
    "            print(fmtstring.format(a_char=\"-\", b_char=str_b[b_idx]))\n",
    "        elif b_idx == 0:\n",
    "            a_idx -= 1\n",
    "            print(fmtstring.format(a_char=str_a[a_idx], b_char=\"-\"))\n",
    "        else:\n",
    "            match_cost = subsol[a_idx - 1][b_idx - 1] + (\n",
    "                MISMATCH_COST if str_a[a_idx - 1] != str_b[b_idx - 1] else 0)\n",
    "            a_gap_cost = subsol[a_idx - 1][b_idx] + GAP_COST\n",
    "            b_gap_cost = subsol[a_idx][b_idx - 1] + GAP_COST\n",
    "            \n",
    "            if match_cost < a_gap_cost and match_cost < b_gap_cost:\n",
    "                a_idx -= 1\n",
    "                b_idx -= 1\n",
    "                print(fmtstring.format(a_char=str_a[a_idx], b_char=str_b[b_idx]))\n",
    "            elif a_gap_cost < b_gap_cost:\n",
    "                a_idx -= 1\n",
    "                print(fmtstring.format(a_char=str_a[a_idx], b_char=\"-\"))\n",
    "            else:\n",
    "                b_idx -= 1\n",
    "                print(fmtstring.format(a_char=\"-\", b_char=str_b[b_idx]))\n",
    "                \n",
    "dp_edit_distance(\"apple\", \"aple\")"
   ]
  }
 ],
 "metadata": {
  "anaconda-cloud": {},
  "kernelspec": {
   "display_name": "Python [conda env:anaconda3]",
   "language": "python",
   "name": "conda-env-anaconda3-py"
  },
  "language_info": {
   "codemirror_mode": {
    "name": "ipython",
    "version": 3
   },
   "file_extension": ".py",
   "mimetype": "text/x-python",
   "name": "python",
   "nbconvert_exporter": "python",
   "pygments_lexer": "ipython3",
   "version": "3.5.2"
  }
 },
 "nbformat": 4,
 "nbformat_minor": 1
}
