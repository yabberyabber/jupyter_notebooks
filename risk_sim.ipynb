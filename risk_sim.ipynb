{
 "cells": [
  {
   "cell_type": "markdown",
   "metadata": {},
   "source": [
    "#Risk stats\n",
    "The table below shows expected outcomes for large battles in risk.  The row corresponds to the size of the attacking army, the column corresponds to the size of the defending army.\n",
    "\n",
    "The greener a cell is, the more likely it is the attacker can take control of a territory.  The redder a cell is, the more likely it is the defender will maintain control of a territory.\n",
    "\n",
    "Each cell contains a number corresponding to an expected outcome.  If the number is positive, it represents the number of armies the attacker will likely be left with.  If the number is negative, it represents the number of armies the defender will likely be left with.  \n",
    "\n",
    "##Details\n",
    "For a primer on the rules of risk: http://media.wizards.com/2015/downloads/ah/Risk_rules.pdf\n",
    "Each configuration was simulated 5,000 times to determine the frequency of outcomes.  "
   ]
  },
  {
   "cell_type": "code",
   "execution_count": 1,
   "metadata": {
    "collapsed": false
   },
   "outputs": [
    {
     "data": {
      "text/plain": [
       "Armies(attackers=1, defenders=5)"
      ]
     },
     "execution_count": 1,
     "metadata": {},
     "output_type": "execute_result"
    }
   ],
   "source": [
    "from collections import namedtuple\n",
    "import random\n",
    "rand = random.Random()\n",
    "\n",
    "Armies = namedtuple(\"Armies\", [\"attackers\", \"defenders\"])\n",
    "\n",
    "class Side:\n",
    "    ATTACKER = 1\n",
    "    DEFENDER = 2\n",
    "\n",
    "def eval_roll(attacker_dice, defender_dice):\n",
    "    \"Return the delta for each side... (delta_attackers, delta_defenders)\"\n",
    "    attacker_wins, defender_wins = 0, 0\n",
    "    for attacker_roll, defender_roll in zip(sorted(attacker_dice)[::-1], sorted(defender_dice)[::-1]):\n",
    "        if attacker_roll > defender_roll:\n",
    "            attacker_wins += 1\n",
    "        else:  #defender wins tie\n",
    "            defender_wins += 1\n",
    "    return Armies(-defender_wins, -attacker_wins)\n",
    "\n",
    "assert(eval_roll([5, 4, 1], [5, 1]) == Armies(-1, -1))\n",
    "assert(eval_roll([6, 6, 6], [6]) == Armies(-1, 0))\n",
    "\n",
    "def roll_dice(num):\n",
    "    return [rand.randint(1, 6) for i in range(num)]\n",
    "\n",
    "def run_battle(armies):\n",
    "    attacking, defending = armies\n",
    "    while attacking > 1 and defending > 0:\n",
    "        delta_attacking, delta_defending = eval_roll(\n",
    "            roll_dice(min(attacking - 1, 3)),\n",
    "            roll_dice(min(defending, 2)))\n",
    "        attacking += delta_attacking\n",
    "        defending += delta_defending\n",
    "    return Armies(attacking, defending)\n",
    "\n",
    "run_battle(Armies(6, 5))"
   ]
  },
  {
   "cell_type": "code",
   "execution_count": 47,
   "metadata": {
    "collapsed": false
   },
   "outputs": [
    {
     "name": "stdout",
     "output_type": "stream",
     "text": [
      "(1.0, 0.0, 0.0, 0.0, 0.0)\n"
     ]
    }
   ],
   "source": [
    "def get_winner(armies):\n",
    "    if armies.defenders == 0:\n",
    "        return Side.ATTACKER\n",
    "    else:\n",
    "        return Side.DEFENDER\n",
    "\n",
    "def run_many_battles(armies, num_iterations=2500):\n",
    "    \"Given a starting configuration of |armies|, simulate |num_iterationgs| battles and return stats on the results\"\n",
    "    attacker_wins, defender_wins = 0, 0\n",
    "    attacker_remainings, defender_remainings = [], []\n",
    "    for i in range(num_iterations):\n",
    "        res = run_battle(armies)\n",
    "        if get_winner(res) == Side.ATTACKER:\n",
    "            attacker_wins += 1\n",
    "            attacker_remainings.append(res.attackers)\n",
    "        else:\n",
    "            defender_wins += 1\n",
    "            defender_remainings.append(res.defenders)\n",
    "    \n",
    "    attacker_mean = 0.0\n",
    "    defender_mean = 0.0\n",
    "    \n",
    "    all_mean = sum(attacker_remainings + [-x for x in defender_remainings]) / len(attacker_remainings + defender_remainings)\n",
    "    try:\n",
    "        #attacker_mean = max(set(attacker_remainings), key=attacker_remainings.count)\n",
    "        attacker_mean = sum(attacker_remainings) / len(attacker_remainings)\n",
    "    except:\n",
    "        pass\n",
    "    \n",
    "    try:\n",
    "        #defender_mean = max(set(defender_remainings), key=defender_remainings.count)\n",
    "        defender_mean = sum(defender_remainings) / len(defender_remainings)\n",
    "    except:\n",
    "        pass\n",
    "            \n",
    "    return (attacker_wins / num_iterations, defender_wins / num_iterations, attacker_mean, defender_mean, all_mean)\n",
    "\n",
    "print(run_many_battles(Armies(0, 0)))"
   ]
  },
  {
   "cell_type": "code",
   "execution_count": null,
   "metadata": {
    "collapsed": false,
    "scrolled": false
   },
   "outputs": [],
   "source": [
    "from IPython.display import HTML, display\n",
    "\n",
    "def generate_battle_matrix(max_attackers=20, max_defenders=20):\n",
    "    \"Call run_many_battles on various starting configurations\"\n",
    "    matrix = [[0 for x in range(max_defenders)] for y in range(max_attackers)]\n",
    "    for attackers in range(max_defenders):\n",
    "        for defenders in range(max_defenders):\n",
    "            matrix[attackers][defenders] = run_many_battles(Armies(attackers, defenders))\n",
    "    return matrix\n",
    "\n",
    "def colorize(res, attackers_start, defenders_start):\n",
    "    \"Assign a color to the stats collected by run_many_battles\"\n",
    "    rate, _, attackers_left, defenders_left, all_left = res\n",
    "    \n",
    "    \"\"\"\n",
    "    if rate > 0.5:\n",
    "        whiteness = int(255 * (1 - (attackers_left / attackers_start)**2.0))\n",
    "        return \"#%02xff%02x\" % (whiteness, whiteness)\n",
    "    else:\n",
    "        whiteness = int(255 * (1 - (defenders_left / defenders_start)**2.0))\n",
    "        return \"#ff%02x%02x\" % (whiteness, whiteness)\n",
    "    \"\"\" \n",
    "    whiteness = int(255 * 2 * ((0.5 - abs(rate - 0.5))**0.8))\n",
    "    if rate > 0.5:\n",
    "        return \"#%02xff%02x\" % (whiteness, whiteness)\n",
    "    else:\n",
    "        return \"#ff%02x%02x\" % (whiteness, whiteness)\n",
    "\n",
    "def render_matrix_html(matrix):\n",
    "    \"Render the results of generate_battle_matrix as an html table\"\n",
    "    rows = []\n",
    "    \n",
    "    first_row = [\"<th></th>\"]\n",
    "    for num_defenders, _ in enumerate(matrix[0]):\n",
    "        if num_defenders == 0:\n",
    "            continue\n",
    "        first_row.append(\"<th>d=%s</th>\" % (num_defenders))\n",
    "    rows.append(''.join(first_row))\n",
    "    \n",
    "    for num_attackers, stats in enumerate(matrix):\n",
    "        if num_attackers == 0:\n",
    "            continue\n",
    "            \n",
    "        cells = [\"<th>a=%s</th>\" % (num_attackers)]\n",
    "        for num_defenders, res in enumerate(stats):\n",
    "            if num_defenders == 0:\n",
    "                continue\n",
    "                \n",
    "            successRate = res[0]\n",
    "            remainingArmies = 0\n",
    "            if successRate >= 0.5:\n",
    "                remainingArmies = \"+%2.1f\" % res[2]\n",
    "            else:\n",
    "                remainingArmies = \"-%2.1f\" % res[3]\n",
    "            color = colorize(res, num_attackers, num_defenders)\n",
    "            remainingArmies = \"%2.1f\" % res[4]\n",
    "            cells.append(\"<td style='background-color: %s'>%s</td>\" % (color, remainingArmies))\n",
    "        rows.append(''.join(cells))\n",
    "        \n",
    "    rows = [\"<tr>%s</tr>\" % (row) for row in rows]\n",
    "    \n",
    "    return HTML(\"<table>%s</table>\" % (''.join(rows)))\n",
    "\n",
    "\n",
    "display(render_matrix_html(generate_battle_matrix(25, 25)))"
   ]
  }
 ],
 "metadata": {
  "anaconda-cloud": {},
  "kernelspec": {
   "display_name": "Python [conda root]",
   "language": "python",
   "name": "conda-root-py"
  },
  "language_info": {
   "codemirror_mode": {
    "name": "ipython",
    "version": 3
   },
   "file_extension": ".py",
   "mimetype": "text/x-python",
   "name": "python",
   "nbconvert_exporter": "python",
   "pygments_lexer": "ipython3",
   "version": "3.5.2"
  }
 },
 "nbformat": 4,
 "nbformat_minor": 1
}
