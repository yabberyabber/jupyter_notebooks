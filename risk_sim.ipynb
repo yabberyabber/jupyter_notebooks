{
 "cells": [
  {
   "cell_type": "markdown",
   "metadata": {},
   "source": [
    "#Risk stats\n",
    "The table below shows expected outcomes for large battles in risk.  The row corresponds to the size of the attacking army, the column corresponds to the size of the defending army.\n",
    "\n",
    "The greener a cell is, the more likely it is the attacker can take control of a territory.  The redder a cell is, the more likely it is the defender will maintain control of a territory.\n",
    "\n",
    "Each cell contains a number corresponding to an expected outcome.  If the number is positive, it represents the number of armies the attacker will likely be left with.  If the number is negative, it represents the number of armies the defender will likely be left with.  \n",
    "\n",
    "##Details\n",
    "For a primer on the rules of risk: http://media.wizards.com/2015/downloads/ah/Risk_rules.pdf\n",
    "Each configuration was simulated 5,000 times to determine the frequency of outcomes.  "
   ]
  },
  {
   "cell_type": "code",
   "execution_count": 1,
   "metadata": {
    "collapsed": false
   },
   "outputs": [
    {
     "data": {
      "text/plain": [
       "Armies(attackers=1, defenders=5)"
      ]
     },
     "execution_count": 1,
     "metadata": {},
     "output_type": "execute_result"
    }
   ],
   "source": [
    "from collections import namedtuple\n",
    "import random\n",
    "rand = random.Random()\n",
    "\n",
    "Armies = namedtuple(\"Armies\", [\"attackers\", \"defenders\"])\n",
    "\n",
    "class Side:\n",
    "    ATTACKER = 1\n",
    "    DEFENDER = 2\n",
    "\n",
    "def eval_roll(attacker_dice, defender_dice):\n",
    "    \"Return the delta for each side... (delta_attackers, delta_defenders)\"\n",
    "    attacker_wins, defender_wins = 0, 0\n",
    "    for attacker_roll, defender_roll in zip(sorted(attacker_dice)[::-1], sorted(defender_dice)[::-1]):\n",
    "        if attacker_roll > defender_roll:\n",
    "            attacker_wins += 1\n",
    "        else:  #defender wins tie\n",
    "            defender_wins += 1\n",
    "    return Armies(-defender_wins, -attacker_wins)\n",
    "\n",
    "assert(eval_roll([5, 4, 1], [5, 1]) == Armies(-1, -1))\n",
    "assert(eval_roll([6, 6, 6], [6]) == Armies(-1, 0))\n",
    "\n",
    "def roll_dice(num):\n",
    "    return [rand.randint(1, 6) for i in range(num)]\n",
    "\n",
    "def run_battle(armies):\n",
    "    attacking, defending = armies\n",
    "    while attacking > 1 and defending > 0:\n",
    "        delta_attacking, delta_defending = eval_roll(\n",
    "            roll_dice(min(attacking - 1, 3)),\n",
    "            roll_dice(min(defending, 2)))\n",
    "        attacking += delta_attacking\n",
    "        defending += delta_defending\n",
    "    return Armies(attacking, defending)\n",
    "\n",
    "run_battle(Armies(6, 5))"
   ]
  },
  {
   "cell_type": "code",
   "execution_count": 54,
   "metadata": {
    "collapsed": false
   },
   "outputs": [],
   "source": [
    "def get_winner(armies):\n",
    "    if armies.defenders == 0:\n",
    "        return Side.ATTACKER\n",
    "    else:\n",
    "        return Side.DEFENDER\n",
    "\n",
    "def run_many_battles(armies, num_iterations=2500):\n",
    "    \"Given a starting configuration of |armies|, simulate |num_iterationgs| battles and return stats on the results\"\n",
    "    attacker_wins, defender_wins = 0, 0\n",
    "    attacker_remainings, defender_remainings = [], []\n",
    "    for i in range(num_iterations):\n",
    "        res = run_battle(armies)\n",
    "        if get_winner(res) == Side.ATTACKER:\n",
    "            attacker_wins += 1\n",
    "            attacker_remainings.append(res.attackers)\n",
    "        else:\n",
    "            defender_wins += 1\n",
    "            defender_remainings.append(res.defenders)\n",
    "    \n",
    "    attacker_mean = 0.0\n",
    "    defender_mean = 0.0\n",
    "    \n",
    "    all_mean = sum(attacker_remainings + [-x for x in defender_remainings]) / len(attacker_remainings + defender_remainings)\n",
    "    try:\n",
    "        #attacker_mean = max(set(attacker_remainings), key=attacker_remainings.count)\n",
    "        attacker_mean = sum(attacker_remainings) / len(attacker_remainings)\n",
    "    except:\n",
    "        pass\n",
    "    \n",
    "    try:\n",
    "        #defender_mean = max(set(defender_remainings), key=defender_remainings.count)\n",
    "        defender_mean = sum(defender_remainings) / len(defender_remainings)\n",
    "    except:\n",
    "        pass\n",
    "            \n",
    "    return (attacker_wins / num_iterations, defender_wins / num_iterations, attacker_mean, defender_mean, all_mean)\n",
    "\n",
    "\n",
    "def generate_battle_matrix(max_attackers=20, max_defenders=20):\n",
    "    \"Call run_many_battles on various starting configurations\"\n",
    "    matrix = [[0 for x in range(max_defenders + 1)] for y in range(max_attackers + 1)]\n",
    "    for attackers in range(max_defenders + 1):\n",
    "        for defenders in range(max_defenders + 1):\n",
    "            matrix[attackers][defenders] = run_many_battles(Armies(attackers, defenders))\n",
    "    return matrix\n",
    "\n",
    "battle_results = generate_battle_matrix()"
   ]
  },
  {
   "cell_type": "code",
   "execution_count": 55,
   "metadata": {
    "collapsed": false,
    "scrolled": false
   },
   "outputs": [
    {
     "data": {
      "text/html": [
       "<table><tr><th></th><th>d=1</th><th>d=2</th><th>d=3</th><th>d=4</th><th>d=5</th><th>d=6</th><th>d=7</th><th>d=8</th><th>d=9</th><th>d=10</th><th>d=11</th><th>d=12</th><th>d=13</th><th>d=14</th><th>d=15</th><th>d=16</th><th>d=17</th><th>d=18</th><th>d=19</th><th>d=20</th></tr><tr><th>a=1</th><td style='background-color: #ff0000'>-1.0</td><td style='background-color: #ff0000'>-2.0</td><td style='background-color: #ff0000'>-3.0</td><td style='background-color: #ff0000'>-4.0</td><td style='background-color: #ff0000'>-5.0</td><td style='background-color: #ff0000'>-6.0</td><td style='background-color: #ff0000'>-7.0</td><td style='background-color: #ff0000'>-8.0</td><td style='background-color: #ff0000'>-9.0</td><td style='background-color: #ff0000'>-10.0</td><td style='background-color: #ff0000'>-11.0</td><td style='background-color: #ff0000'>-12.0</td><td style='background-color: #ff0000'>-13.0</td><td style='background-color: #ff0000'>-14.0</td><td style='background-color: #ff0000'>-15.0</td><td style='background-color: #ff0000'>-16.0</td><td style='background-color: #ff0000'>-17.0</td><td style='background-color: #ff0000'>-18.0</td><td style='background-color: #ff0000'>-19.0</td><td style='background-color: #ff0000'>-20.0</td></tr><tr><th>a=2</th><td style='background-color: #fff4f4'>0.3</td><td style='background-color: #ff4d4d'>-1.4</td><td style='background-color: #ff1111'>-2.6</td><td style='background-color: #ff0404'>-3.6</td><td style='background-color: #ff0000'>-4.7</td><td style='background-color: #ff0000'>-5.7</td><td style='background-color: #ff0000'>-6.7</td><td style='background-color: #ff0000'>-7.6</td><td style='background-color: #ff0000'>-8.7</td><td style='background-color: #ff0000'>-9.7</td><td style='background-color: #ff0000'>-10.7</td><td style='background-color: #ff0000'>-11.7</td><td style='background-color: #ff0000'>-12.7</td><td style='background-color: #ff0000'>-13.7</td><td style='background-color: #ff0000'>-14.7</td><td style='background-color: #ff0000'>-15.6</td><td style='background-color: #ff0000'>-16.6</td><td style='background-color: #ff0000'>-17.7</td><td style='background-color: #ff0000'>-18.7</td><td style='background-color: #ff0000'>-19.7</td></tr><tr><th>a=3</th><td style='background-color: #a5ffa5'>1.8</td><td style='background-color: #ffdbdb'>-0.1</td><td style='background-color: #ff8d8d'>-1.4</td><td style='background-color: #ff4040'>-2.7</td><td style='background-color: #ff1f1f'>-3.8</td><td style='background-color: #ff0d0d'>-4.8</td><td style='background-color: #ff0808'>-5.9</td><td style='background-color: #ff0404'>-6.8</td><td style='background-color: #ff0000'>-7.9</td><td style='background-color: #ff0000'>-8.8</td><td style='background-color: #ff0000'>-9.9</td><td style='background-color: #ff0000'>-10.8</td><td style='background-color: #ff0000'>-11.8</td><td style='background-color: #ff0000'>-12.8</td><td style='background-color: #ff0000'>-13.8</td><td style='background-color: #ff0000'>-14.8</td><td style='background-color: #ff0000'>-15.8</td><td style='background-color: #ff0000'>-16.8</td><td style='background-color: #ff0000'>-17.9</td><td style='background-color: #ff0000'>-18.8</td></tr><tr><th>a=4</th><td style='background-color: #42ff42'>3.2</td><td style='background-color: #d4ffd4'>1.7</td><td style='background-color: #fff9f9'>0.4</td><td style='background-color: #ffc2c2'>-1.0</td><td style='background-color: #ff8888'>-2.1</td><td style='background-color: #ff6363'>-3.2</td><td style='background-color: #ff3a3a'>-4.3</td><td style='background-color: #ff2424'>-5.4</td><td style='background-color: #ff1818'>-6.5</td><td style='background-color: #ff0e0e'>-7.5</td><td style='background-color: #ff0707'>-8.5</td><td style='background-color: #ff0606'>-9.5</td><td style='background-color: #ff0303'>-10.5</td><td style='background-color: #ff0101'>-11.5</td><td style='background-color: #ff0101'>-12.5</td><td style='background-color: #ff0000'>-13.5</td><td style='background-color: #ff0101'>-14.4</td><td style='background-color: #ff0000'>-15.6</td><td style='background-color: #ff0000'>-16.5</td><td style='background-color: #ff0000'>-17.5</td></tr><tr><th>a=5</th><td style='background-color: #18ff18'>4.4</td><td style='background-color: #8aff8a'>3.0</td><td style='background-color: #ddffdd'>1.7</td><td style='background-color: #fffcfc'>0.5</td><td style='background-color: #ffd8d8'>-0.8</td><td style='background-color: #ffadad'>-1.9</td><td style='background-color: #ff7b7b'>-3.1</td><td style='background-color: #ff5858'>-4.1</td><td style='background-color: #ff3b3b'>-5.3</td><td style='background-color: #ff2727'>-6.3</td><td style='background-color: #ff1e1e'>-7.4</td><td style='background-color: #ff1414'>-8.4</td><td style='background-color: #ff0f0f'>-9.3</td><td style='background-color: #ff0909'>-10.4</td><td style='background-color: #ff0404'>-11.5</td><td style='background-color: #ff0404'>-12.4</td><td style='background-color: #ff0202'>-13.4</td><td style='background-color: #ff0202'>-14.4</td><td style='background-color: #ff0000'>-15.4</td><td style='background-color: #ff0000'>-16.4</td></tr><tr><th>a=6</th><td style='background-color: #06ff06'>5.5</td><td style='background-color: #52ff52'>4.2</td><td style='background-color: #99ff99'>3.2</td><td style='background-color: #d7ffd7'>1.9</td><td style='background-color: #fefffe'>0.7</td><td style='background-color: #ffe3e3'>-0.5</td><td style='background-color: #ffc4c4'>-1.5</td><td style='background-color: #ff9a9a'>-2.8</td><td style='background-color: #ff6f6f'>-3.9</td><td style='background-color: #ff4c4c'>-5.0</td><td style='background-color: #ff3939'>-6.2</td><td style='background-color: #ff2b2b'>-7.0</td><td style='background-color: #ff1f1f'>-8.2</td><td style='background-color: #ff1616'>-9.2</td><td style='background-color: #ff0d0d'>-10.2</td><td style='background-color: #ff0808'>-11.3</td><td style='background-color: #ff0707'>-12.1</td><td style='background-color: #ff0505'>-13.2</td><td style='background-color: #ff0404'>-14.1</td><td style='background-color: #ff0202'>-15.2</td></tr><tr><th>a=7</th><td style='background-color: #04ff04'>6.5</td><td style='background-color: #38ff38'>5.2</td><td style='background-color: #65ff65'>4.3</td><td style='background-color: #a1ffa1'>3.2</td><td style='background-color: #ddffdd'>2.0</td><td style='background-color: #f8fff8'>1.0</td><td style='background-color: #ffebeb'>-0.4</td><td style='background-color: #ffc7c7'>-1.5</td><td style='background-color: #ffa3a3'>-2.7</td><td style='background-color: #ff7b7b'>-3.9</td><td style='background-color: #ff6969'>-4.8</td><td style='background-color: #ff5656'>-5.8</td><td style='background-color: #ff3a3a'>-7.0</td><td style='background-color: #ff2727'>-8.0</td><td style='background-color: #ff1b1b'>-9.0</td><td style='background-color: #ff1717'>-9.9</td><td style='background-color: #ff1212'>-10.9</td><td style='background-color: #ff0c0c'>-12.1</td><td style='background-color: #ff0505'>-13.1</td><td style='background-color: #ff0303'>-14.1</td></tr><tr><th>a=8</th><td style='background-color: #01ff01'>7.5</td><td style='background-color: #16ff16'>6.4</td><td style='background-color: #47ff47'>5.4</td><td style='background-color: #6dff6d'>4.5</td><td style='background-color: #adffad'>3.3</td><td style='background-color: #d3ffd3'>2.3</td><td style='background-color: #fafffa'>1.0</td><td style='background-color: #fff7f7'>-0.1</td><td style='background-color: #ffd9d9'>-1.2</td><td style='background-color: #ffb8b8'>-2.3</td><td style='background-color: #ff9797'>-3.4</td><td style='background-color: #ff7676'>-4.5</td><td style='background-color: #ff5d5d'>-5.6</td><td style='background-color: #ff4646'>-6.7</td><td style='background-color: #ff2f2f'>-7.8</td><td style='background-color: #ff2929'>-8.8</td><td style='background-color: #ff1e1e'>-9.7</td><td style='background-color: #ff1717'>-10.8</td><td style='background-color: #ff1010'>-11.8</td><td style='background-color: #ff0c0c'>-12.9</td></tr><tr><th>a=9</th><td style='background-color: #00ff00'>8.5</td><td style='background-color: #0bff0b'>7.4</td><td style='background-color: #1fff1f'>6.6</td><td style='background-color: #52ff52'>5.5</td><td style='background-color: #7bff7b'>4.5</td><td style='background-color: #b1ffb1'>3.4</td><td style='background-color: #d4ffd4'>2.4</td><td style='background-color: #f6fff6'>1.1</td><td style='background-color: #fff6f6'>-0.2</td><td style='background-color: #ffe2e2'>-1.1</td><td style='background-color: #ffbbbb'>-2.4</td><td style='background-color: #ff9999'>-3.5</td><td style='background-color: #ff8686'>-4.3</td><td style='background-color: #ff6e6e'>-5.3</td><td style='background-color: #ff5656'>-6.4</td><td style='background-color: #ff3f3f'>-7.6</td><td style='background-color: #ff3030'>-8.5</td><td style='background-color: #ff2a2a'>-9.7</td><td style='background-color: #ff1e1e'>-10.6</td><td style='background-color: #ff1313'>-11.7</td></tr><tr><th>a=10</th><td style='background-color: #00ff00'>9.5</td><td style='background-color: #07ff07'>8.4</td><td style='background-color: #1cff1c'>7.6</td><td style='background-color: #35ff35'>6.7</td><td style='background-color: #5bff5b'>5.7</td><td style='background-color: #7cff7c'>4.8</td><td style='background-color: #b8ffb8'>3.4</td><td style='background-color: #dcffdc'>2.3</td><td style='background-color: #f7fff7'>1.2</td><td style='background-color: #fffbfb'>0.1</td><td style='background-color: #ffe5e5'>-1.0</td><td style='background-color: #ffcfcf'>-2.0</td><td style='background-color: #ffb2b2'>-3.0</td><td style='background-color: #ff9797'>-4.1</td><td style='background-color: #ff7070'>-5.3</td><td style='background-color: #ff6363'>-6.3</td><td style='background-color: #ff4b4b'>-7.3</td><td style='background-color: #ff3a3a'>-8.4</td><td style='background-color: #ff2a2a'>-9.5</td><td style='background-color: #ff2020'>-10.7</td></tr><tr><th>a=11</th><td style='background-color: #00ff00'>10.5</td><td style='background-color: #03ff03'>9.4</td><td style='background-color: #0eff0e'>8.7</td><td style='background-color: #24ff24'>7.6</td><td style='background-color: #3eff3e'>6.7</td><td style='background-color: #64ff64'>5.7</td><td style='background-color: #8aff8a'>4.7</td><td style='background-color: #b5ffb5'>3.7</td><td style='background-color: #d8ffd8'>2.6</td><td style='background-color: #f0fff0'>1.5</td><td style='background-color: #fffdfd'>0.3</td><td style='background-color: #ffefef'>-0.6</td><td style='background-color: #ffd5d5'>-1.8</td><td style='background-color: #ffbbbb'>-2.9</td><td style='background-color: #ffa7a7'>-3.8</td><td style='background-color: #ff8383'>-5.0</td><td style='background-color: #ff6b6b'>-6.2</td><td style='background-color: #ff5555'>-7.2</td><td style='background-color: #ff4444'>-8.1</td><td style='background-color: #ff3636'>-9.3</td></tr><tr><th>a=12</th><td style='background-color: #00ff00'>11.5</td><td style='background-color: #01ff01'>10.4</td><td style='background-color: #08ff08'>9.7</td><td style='background-color: #15ff15'>8.8</td><td style='background-color: #27ff27'>7.9</td><td style='background-color: #40ff40'>7.0</td><td style='background-color: #6cff6c'>5.7</td><td style='background-color: #8fff8f'>4.8</td><td style='background-color: #b6ffb6'>3.7</td><td style='background-color: #d2ffd2'>2.8</td><td style='background-color: #f2fff2'>1.6</td><td style='background-color: #fefffe'>0.6</td><td style='background-color: #fff0f0'>-0.6</td><td style='background-color: #ffdcdc'>-1.7</td><td style='background-color: #ffb9b9'>-2.9</td><td style='background-color: #ffa6a6'>-3.8</td><td style='background-color: #ff9090'>-4.8</td><td style='background-color: #ff7272'>-6.1</td><td style='background-color: #ff5d5d'>-6.9</td><td style='background-color: #ff5151'>-8.1</td></tr><tr><th>a=13</th><td style='background-color: #00ff00'>12.5</td><td style='background-color: #01ff01'>11.5</td><td style='background-color: #05ff05'>10.7</td><td style='background-color: #0fff0f'>9.7</td><td style='background-color: #1bff1b'>8.8</td><td style='background-color: #2bff2b'>8.0</td><td style='background-color: #47ff47'>7.1</td><td style='background-color: #6dff6d'>6.0</td><td style='background-color: #8aff8a'>5.1</td><td style='background-color: #b5ffb5'>3.8</td><td style='background-color: #d4ffd4'>2.9</td><td style='background-color: #eeffee'>1.8</td><td style='background-color: #fffdfd'>0.3</td><td style='background-color: #fff7f7'>-0.3</td><td style='background-color: #ffdfdf'>-1.6</td><td style='background-color: #ffcaca'>-2.5</td><td style='background-color: #ffb7b7'>-3.5</td><td style='background-color: #ff9c9c'>-4.6</td><td style='background-color: #ff8383'>-5.7</td><td style='background-color: #ff6a6a'>-6.9</td></tr><tr><th>a=14</th><td style='background-color: #00ff00'>13.5</td><td style='background-color: #00ff00'>12.5</td><td style='background-color: #02ff02'>11.7</td><td style='background-color: #07ff07'>10.8</td><td style='background-color: #10ff10'>9.9</td><td style='background-color: #21ff21'>8.9</td><td style='background-color: #37ff37'>8.1</td><td style='background-color: #53ff53'>7.1</td><td style='background-color: #69ff69'>6.4</td><td style='background-color: #92ff92'>5.0</td><td style='background-color: #b9ffb9'>4.0</td><td style='background-color: #d2ffd2'>2.9</td><td style='background-color: #f2fff2'>1.6</td><td style='background-color: #f6fff6'>1.2</td><td style='background-color: #fffbfb'>-0.1</td><td style='background-color: #ffe8e8'>-1.2</td><td style='background-color: #ffd0d0'>-2.3</td><td style='background-color: #ffb4b4'>-3.5</td><td style='background-color: #ffa2a2'>-4.4</td><td style='background-color: #ff8a8a'>-5.5</td></tr><tr><th>a=15</th><td style='background-color: #00ff00'>14.5</td><td style='background-color: #00ff00'>13.5</td><td style='background-color: #01ff01'>12.7</td><td style='background-color: #05ff05'>11.8</td><td style='background-color: #0bff0b'>10.8</td><td style='background-color: #14ff14'>10.1</td><td style='background-color: #24ff24'>9.1</td><td style='background-color: #3dff3d'>8.2</td><td style='background-color: #52ff52'>7.3</td><td style='background-color: #6eff6e'>6.3</td><td style='background-color: #91ff91'>5.3</td><td style='background-color: #b5ffb5'>4.1</td><td style='background-color: #cbffcb'>3.2</td><td style='background-color: #e2ffe2'>2.4</td><td style='background-color: #fbfffb'>1.0</td><td style='background-color: #fffcfc'>0.1</td><td style='background-color: #ffe9e9'>-1.2</td><td style='background-color: #ffdada'>-2.0</td><td style='background-color: #ffc0c0'>-3.2</td><td style='background-color: #ffadad'>-4.1</td></tr><tr><th>a=16</th><td style='background-color: #00ff00'>15.5</td><td style='background-color: #00ff00'>14.4</td><td style='background-color: #02ff02'>13.6</td><td style='background-color: #03ff03'>12.7</td><td style='background-color: #07ff07'>11.9</td><td style='background-color: #0fff0f'>11.0</td><td style='background-color: #19ff19'>10.3</td><td style='background-color: #2cff2c'>9.1</td><td style='background-color: #44ff44'>8.3</td><td style='background-color: #4fff4f'>7.5</td><td style='background-color: #76ff76'>6.4</td><td style='background-color: #92ff92'>5.5</td><td style='background-color: #adffad'>4.4</td><td style='background-color: #caffca'>3.4</td><td style='background-color: #e5ffe5'>2.3</td><td style='background-color: #f6fff6'>1.4</td><td style='background-color: #fffefe'>0.2</td><td style='background-color: #ffebeb'>-1.1</td><td style='background-color: #ffdfdf'>-1.8</td><td style='background-color: #ffc7c7'>-2.9</td></tr><tr><th>a=17</th><td style='background-color: #00ff00'>16.5</td><td style='background-color: #00ff00'>15.5</td><td style='background-color: #00ff00'>14.6</td><td style='background-color: #01ff01'>13.8</td><td style='background-color: #04ff04'>12.9</td><td style='background-color: #09ff09'>12.2</td><td style='background-color: #10ff10'>11.3</td><td style='background-color: #21ff21'>10.3</td><td style='background-color: #2dff2d'>9.4</td><td style='background-color: #45ff45'>8.4</td><td style='background-color: #56ff56'>7.7</td><td style='background-color: #78ff78'>6.5</td><td style='background-color: #96ff96'>5.5</td><td style='background-color: #b2ffb2'>4.5</td><td style='background-color: #ccffcc'>3.5</td><td style='background-color: #e6ffe6'>2.4</td><td style='background-color: #f6fff6'>1.5</td><td style='background-color: #fefffe'>0.6</td><td style='background-color: #fff6f6'>-0.7</td><td style='background-color: #ffd9d9'>-2.3</td></tr><tr><th>a=18</th><td style='background-color: #00ff00'>17.5</td><td style='background-color: #00ff00'>16.5</td><td style='background-color: #00ff00'>15.7</td><td style='background-color: #01ff01'>14.9</td><td style='background-color: #03ff03'>14.0</td><td style='background-color: #07ff07'>13.1</td><td style='background-color: #0bff0b'>12.2</td><td style='background-color: #12ff12'>11.2</td><td style='background-color: #1dff1d'>10.5</td><td style='background-color: #2bff2b'>9.6</td><td style='background-color: #4aff4a'>8.4</td><td style='background-color: #66ff66'>7.4</td><td style='background-color: #79ff79'>6.7</td><td style='background-color: #90ff90'>5.7</td><td style='background-color: #a7ffa7'>4.8</td><td style='background-color: #cfffcf'>3.4</td><td style='background-color: #daffda'>2.8</td><td style='background-color: #f3fff3'>1.6</td><td style='background-color: #fffefe'>0.5</td><td style='background-color: #fff8f8'>-0.5</td></tr><tr><th>a=19</th><td style='background-color: #00ff00'>18.5</td><td style='background-color: #00ff00'>17.5</td><td style='background-color: #00ff00'>16.7</td><td style='background-color: #00ff00'>15.7</td><td style='background-color: #01ff01'>14.9</td><td style='background-color: #02ff02'>14.2</td><td style='background-color: #08ff08'>13.2</td><td style='background-color: #0eff0e'>12.3</td><td style='background-color: #19ff19'>11.3</td><td style='background-color: #27ff27'>10.4</td><td style='background-color: #37ff37'>9.6</td><td style='background-color: #4bff4b'>8.7</td><td style='background-color: #64ff64'>7.6</td><td style='background-color: #7aff7a'>6.8</td><td style='background-color: #97ff97'>5.7</td><td style='background-color: #abffab'>4.9</td><td style='background-color: #d1ffd1'>3.5</td><td style='background-color: #daffda'>2.8</td><td style='background-color: #f1fff1'>1.8</td><td style='background-color: #fcfffc'>0.8</td></tr><tr><th>a=20</th><td style='background-color: #00ff00'>19.5</td><td style='background-color: #00ff00'>18.5</td><td style='background-color: #00ff00'>17.7</td><td style='background-color: #00ff00'>16.9</td><td style='background-color: #01ff01'>15.9</td><td style='background-color: #01ff01'>15.0</td><td style='background-color: #03ff03'>14.2</td><td style='background-color: #0bff0b'>13.4</td><td style='background-color: #11ff11'>12.6</td><td style='background-color: #18ff18'>11.5</td><td style='background-color: #2cff2c'>10.6</td><td style='background-color: #37ff37'>9.9</td><td style='background-color: #48ff48'>9.1</td><td style='background-color: #5cff5c'>8.0</td><td style='background-color: #75ff75'>7.0</td><td style='background-color: #90ff90'>6.0</td><td style='background-color: #adffad'>5.2</td><td style='background-color: #c2ffc2'>3.9</td><td style='background-color: #dfffdf'>2.8</td><td style='background-color: #f1fff1'>2.0</td></tr></table>"
      ],
      "text/plain": [
       "<IPython.core.display.HTML object>"
      ]
     },
     "metadata": {},
     "output_type": "display_data"
    }
   ],
   "source": [
    "from IPython.display import HTML, display\n",
    "\n",
    "\n",
    "def colorize(res, attackers_start, defenders_start):\n",
    "    \"Assign a color to the stats collected by run_many_battles\"\n",
    "    rate, _, attackers_left, defenders_left, all_left = res\n",
    "    \n",
    "    \"\"\"\n",
    "    if rate > 0.5:\n",
    "        whiteness = int(255 * (1 - (attackers_left / attackers_start)**2.0))\n",
    "        return \"#%02xff%02x\" % (whiteness, whiteness)\n",
    "    else:\n",
    "        whiteness = int(255 * (1 - (defenders_left / defenders_start)**2.0))\n",
    "        return \"#ff%02x%02x\" % (whiteness, whiteness)\n",
    "    \"\"\" \n",
    "    whiteness = int(255 * (1 - (2 * abs(rate - 0.5))**1.5))\n",
    "    if rate > 0.5:\n",
    "        return \"#%02xff%02x\" % (whiteness, whiteness)\n",
    "    else:\n",
    "        return \"#ff%02x%02x\" % (whiteness, whiteness)\n",
    "\n",
    "def render_matrix_html(matrix):\n",
    "    \"Render the results of generate_battle_matrix as an html table\"\n",
    "    rows = []\n",
    "    \n",
    "    first_row = [\"<th></th>\"]\n",
    "    for num_defenders, _ in enumerate(matrix[0]):\n",
    "        if num_defenders == 0:\n",
    "            continue\n",
    "        first_row.append(\"<th>d=%s</th>\" % (num_defenders))\n",
    "    rows.append(''.join(first_row))\n",
    "    \n",
    "    for num_attackers, stats in enumerate(matrix):\n",
    "        if num_attackers == 0:\n",
    "            continue\n",
    "            \n",
    "        cells = [\"<th>a=%s</th>\" % (num_attackers)]\n",
    "        for num_defenders, res in enumerate(stats):\n",
    "            if num_defenders == 0:\n",
    "                continue\n",
    "                \n",
    "            successRate = res[0]\n",
    "            remainingArmies = 0\n",
    "            if successRate >= 0.5:\n",
    "                remainingArmies = \"+%2.1f\" % res[2]\n",
    "            else:\n",
    "                remainingArmies = \"-%2.1f\" % res[3]\n",
    "            color = colorize(res, num_attackers, num_defenders)\n",
    "            remainingArmies = \"%2.1f\" % res[4]\n",
    "            cells.append(\"<td style='background-color: %s'>%s</td>\" % (color, remainingArmies))\n",
    "        rows.append(''.join(cells))\n",
    "        \n",
    "    rows = [\"<tr>%s</tr>\" % (row) for row in rows]\n",
    "    \n",
    "    return HTML(\"<table>%s</table>\" % (''.join(rows)))\n",
    "\n",
    "\n",
    "display(render_matrix_html(battle_results))"
   ]
  }
 ],
 "metadata": {
  "anaconda-cloud": {},
  "kernelspec": {
   "display_name": "Python [conda root]",
   "language": "python",
   "name": "conda-root-py"
  },
  "language_info": {
   "codemirror_mode": {
    "name": "ipython",
    "version": 3
   },
   "file_extension": ".py",
   "mimetype": "text/x-python",
   "name": "python",
   "nbconvert_exporter": "python",
   "pygments_lexer": "ipython3",
   "version": "3.5.2"
  }
 },
 "nbformat": 4,
 "nbformat_minor": 1
}
